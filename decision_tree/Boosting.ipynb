{
 "cells": [
  {
   "cell_type": "markdown",
   "id": "038b164d",
   "metadata": {},
   "source": [
    "# Boosting\n",
    "\n",
    "The dataset can be found in the link - https://drive.google.com/drive/folders/1NxCh4X7u7wVo5aHojxjLNs9wC7B7zJhb?usp=sharing\n",
    "\n",
    "Alternatively, you can download the dataset from the same segment on upGrad platform "
   ]
  },
  {
   "cell_type": "code",
   "execution_count": 11,
   "id": "34ad439d",
   "metadata": {},
   "outputs": [],
   "source": [
    "#Importing the libraries\n",
    "import numpy as np\n",
    "import pandas as pd\n",
    "import matplotlib.pyplot as plt\n",
    "import seaborn as sns\n",
    "from sklearn.model_selection import train_test_split\n",
    "import warnings\n",
    "warnings.filterwarnings(\"ignore\")"
   ]
  },
  {
   "cell_type": "code",
   "execution_count": 12,
   "id": "500c8c93",
   "metadata": {},
   "outputs": [
    {
     "data": {
      "text/html": [
       "<div>\n",
       "<style scoped>\n",
       "    .dataframe tbody tr th:only-of-type {\n",
       "        vertical-align: middle;\n",
       "    }\n",
       "\n",
       "    .dataframe tbody tr th {\n",
       "        vertical-align: top;\n",
       "    }\n",
       "\n",
       "    .dataframe thead th {\n",
       "        text-align: right;\n",
       "    }\n",
       "</style>\n",
       "<table border=\"1\" class=\"dataframe\">\n",
       "  <thead>\n",
       "    <tr style=\"text-align: right;\">\n",
       "      <th></th>\n",
       "      <th>bad_loan</th>\n",
       "      <th>loan_request</th>\n",
       "      <th>amt_due_on_mort</th>\n",
       "      <th>value_of_property</th>\n",
       "      <th>years_at_job</th>\n",
       "      <th>num_derog_reports</th>\n",
       "      <th>num_delinq_lines</th>\n",
       "      <th>oldest_cl_age</th>\n",
       "      <th>num_recent_cl</th>\n",
       "      <th>num_of_cl</th>\n",
       "      <th>debt_to_inc_ratio</th>\n",
       "      <th>reason_for_loan_DebtCon</th>\n",
       "      <th>reason_for_loan_HomeImp</th>\n",
       "      <th>occupation_Mgr</th>\n",
       "      <th>occupation_Office</th>\n",
       "      <th>occupation_Other</th>\n",
       "      <th>occupation_ProfExe</th>\n",
       "      <th>occupation_Sales</th>\n",
       "      <th>occupation_Self</th>\n",
       "    </tr>\n",
       "  </thead>\n",
       "  <tbody>\n",
       "    <tr>\n",
       "      <th>0</th>\n",
       "      <td>1.0</td>\n",
       "      <td>-1.563111</td>\n",
       "      <td>-1.092273</td>\n",
       "      <td>-1.119977</td>\n",
       "      <td>0.204896</td>\n",
       "      <td>-0.287802</td>\n",
       "      <td>-0.390777</td>\n",
       "      <td>-1.010801</td>\n",
       "      <td>-0.105982</td>\n",
       "      <td>-1.245799</td>\n",
       "      <td>0.100426</td>\n",
       "      <td>0</td>\n",
       "      <td>1</td>\n",
       "      <td>0</td>\n",
       "      <td>0</td>\n",
       "      <td>1</td>\n",
       "      <td>0</td>\n",
       "      <td>0</td>\n",
       "      <td>0</td>\n",
       "    </tr>\n",
       "    <tr>\n",
       "      <th>1</th>\n",
       "      <td>1.0</td>\n",
       "      <td>-1.545527</td>\n",
       "      <td>-0.083958</td>\n",
       "      <td>-0.611919</td>\n",
       "      <td>-0.263303</td>\n",
       "      <td>-0.287802</td>\n",
       "      <td>1.444855</td>\n",
       "      <td>-0.689082</td>\n",
       "      <td>-0.693180</td>\n",
       "      <td>-0.749574</td>\n",
       "      <td>0.100426</td>\n",
       "      <td>0</td>\n",
       "      <td>1</td>\n",
       "      <td>0</td>\n",
       "      <td>0</td>\n",
       "      <td>1</td>\n",
       "      <td>0</td>\n",
       "      <td>0</td>\n",
       "      <td>0</td>\n",
       "    </tr>\n",
       "    <tr>\n",
       "      <th>2</th>\n",
       "      <td>1.0</td>\n",
       "      <td>-1.527943</td>\n",
       "      <td>-1.374281</td>\n",
       "      <td>-1.506102</td>\n",
       "      <td>-0.664616</td>\n",
       "      <td>-0.287802</td>\n",
       "      <td>-0.390777</td>\n",
       "      <td>-0.365411</td>\n",
       "      <td>-0.105982</td>\n",
       "      <td>-1.146554</td>\n",
       "      <td>0.100426</td>\n",
       "      <td>0</td>\n",
       "      <td>1</td>\n",
       "      <td>0</td>\n",
       "      <td>0</td>\n",
       "      <td>1</td>\n",
       "      <td>0</td>\n",
       "      <td>0</td>\n",
       "      <td>0</td>\n",
       "    </tr>\n",
       "    <tr>\n",
       "      <th>3</th>\n",
       "      <td>0.0</td>\n",
       "      <td>-1.510359</td>\n",
       "      <td>0.549123</td>\n",
       "      <td>0.142169</td>\n",
       "      <td>-0.798387</td>\n",
       "      <td>-0.287802</td>\n",
       "      <td>-0.390777</td>\n",
       "      <td>-1.022905</td>\n",
       "      <td>-0.693180</td>\n",
       "      <td>-0.749574</td>\n",
       "      <td>0.100426</td>\n",
       "      <td>0</td>\n",
       "      <td>1</td>\n",
       "      <td>0</td>\n",
       "      <td>1</td>\n",
       "      <td>0</td>\n",
       "      <td>0</td>\n",
       "      <td>0</td>\n",
       "      <td>0</td>\n",
       "    </tr>\n",
       "    <tr>\n",
       "      <th>4</th>\n",
       "      <td>1.0</td>\n",
       "      <td>-1.510359</td>\n",
       "      <td>-0.985310</td>\n",
       "      <td>-1.097579</td>\n",
       "      <td>0.004239</td>\n",
       "      <td>-0.287802</td>\n",
       "      <td>-0.390777</td>\n",
       "      <td>-0.927646</td>\n",
       "      <td>-0.105982</td>\n",
       "      <td>-1.345045</td>\n",
       "      <td>0.362816</td>\n",
       "      <td>0</td>\n",
       "      <td>1</td>\n",
       "      <td>0</td>\n",
       "      <td>0</td>\n",
       "      <td>1</td>\n",
       "      <td>0</td>\n",
       "      <td>0</td>\n",
       "      <td>0</td>\n",
       "    </tr>\n",
       "  </tbody>\n",
       "</table>\n",
       "</div>"
      ],
      "text/plain": [
       "   bad_loan  loan_request  amt_due_on_mort  value_of_property  years_at_job  \\\n",
       "0       1.0     -1.563111        -1.092273          -1.119977      0.204896   \n",
       "1       1.0     -1.545527        -0.083958          -0.611919     -0.263303   \n",
       "2       1.0     -1.527943        -1.374281          -1.506102     -0.664616   \n",
       "3       0.0     -1.510359         0.549123           0.142169     -0.798387   \n",
       "4       1.0     -1.510359        -0.985310          -1.097579      0.004239   \n",
       "\n",
       "   num_derog_reports  num_delinq_lines  oldest_cl_age  num_recent_cl  \\\n",
       "0          -0.287802         -0.390777      -1.010801      -0.105982   \n",
       "1          -0.287802          1.444855      -0.689082      -0.693180   \n",
       "2          -0.287802         -0.390777      -0.365411      -0.105982   \n",
       "3          -0.287802         -0.390777      -1.022905      -0.693180   \n",
       "4          -0.287802         -0.390777      -0.927646      -0.105982   \n",
       "\n",
       "   num_of_cl  debt_to_inc_ratio  reason_for_loan_DebtCon  \\\n",
       "0  -1.245799           0.100426                        0   \n",
       "1  -0.749574           0.100426                        0   \n",
       "2  -1.146554           0.100426                        0   \n",
       "3  -0.749574           0.100426                        0   \n",
       "4  -1.345045           0.362816                        0   \n",
       "\n",
       "   reason_for_loan_HomeImp  occupation_Mgr  occupation_Office  \\\n",
       "0                        1               0                  0   \n",
       "1                        1               0                  0   \n",
       "2                        1               0                  0   \n",
       "3                        1               0                  1   \n",
       "4                        1               0                  0   \n",
       "\n",
       "   occupation_Other  occupation_ProfExe  occupation_Sales  occupation_Self  \n",
       "0                 1                   0                 0                0  \n",
       "1                 1                   0                 0                0  \n",
       "2                 1                   0                 0                0  \n",
       "3                 0                   0                 0                0  \n",
       "4                 1                   0                 0                0  "
      ]
     },
     "metadata": {},
     "output_type": "display_data"
    }
   ],
   "source": [
    "# read in the data and display the first 5 rows:\n",
    "data = pd.read_csv('hmeq-preprocessed.csv')\n",
    "display(data.head())"
   ]
  },
  {
   "cell_type": "markdown",
   "id": "784886b5",
   "metadata": {},
   "source": [
    "### 1. Get the distribution of the target variable using countplot: `bad_loan`"
   ]
  },
  {
   "cell_type": "code",
   "execution_count": 13,
   "id": "1b1ec049",
   "metadata": {},
   "outputs": [
    {
     "data": {
      "image/png": "[encoded data removed]",
      "text/plain": [
       "<Figure size 432x288 with 1 Axes>"
      ]
     },
     "metadata": {
      "needs_background": "light"
     },
     "output_type": "display_data"
    }
   ],
   "source": [
    "sns.countplot(x='bad_loan', data=data)\n",
    "plt.show()"
   ]
  },
  {
   "cell_type": "code",
   "execution_count": 14,
   "id": "82b689a1",
   "metadata": {},
   "outputs": [
    {
     "name": "stdout",
     "output_type": "stream",
     "text": [
      "(5402, 19)\n",
      "(5402, 18)\n",
      "(5402,)\n"
     ]
    }
   ],
   "source": [
    "# separate target variable from features\n",
    "X = data.iloc[:, 1:]\n",
    "y = data.iloc[:, 0]\n",
    "\n",
    "print(data.shape)\n",
    "print(X.shape)\n",
    "print(y.shape)\n",
    "\n",
    "# partition data into training and testing sets\n",
    "X_train, X_test, y_train, y_test = train_test_split(\n",
    "                                                    X,\n",
    "                                                    y,\n",
    "                                                    test_size=0.3,\n",
    "                                                    stratify=y,\n",
    "                                                    random_state=42\n",
    "                                                    )"
   ]
  },
  {
   "cell_type": "markdown",
   "id": "4341efeb",
   "metadata": {},
   "source": [
    "### 2. Compute the baseline classification accuracy for `X_train`?\n",
    "> - HINT: The [DummyClassifier](#https://scikit-learn.org/stable/modules/generated/sklearn.dummy.DummyClassifier.html) may be helpful.\n",
    "> - Use the `most_frequent` strategy of calculating the baseline accuracy"
   ]
  },
  {
   "cell_type": "code",
   "execution_count": 5,
   "id": "d778815f",
   "metadata": {},
   "outputs": [],
   "source": [
    "#Import Dummy Classifier\n",
    "from sklearn.dummy import DummyClassifier"
   ]
  },
  {
   "cell_type": "code",
   "execution_count": 17,
   "id": "db0e2a79",
   "metadata": {},
   "outputs": [
    {
     "name": "stdout",
     "output_type": "stream",
     "text": [
      "DummyClassifier(strategy='most_frequent')\n",
      "Baseline Accuracy =  0.7988895743368292\n"
     ]
    }
   ],
   "source": [
    "dummy_classifier = DummyClassifier(strategy='most_frequent')\n",
    "dummy_classifier.fit(X_train,y_train)\n",
    "baseline_acc = dummy_classifier.score(X_test,y_test)\n",
    "\n",
    "\n",
    "### For verifying answer:\n",
    "print(\"Baseline Accuracy = \", baseline_acc)"
   ]
  },
  {
   "cell_type": "code",
   "execution_count": 7,
   "id": "9952277d",
   "metadata": {},
   "outputs": [
    {
     "name": "stdout",
     "output_type": "stream",
     "text": [
      "Number of rows should be the same:\n",
      "Number of rows in X_train:   3781\n",
      "Number of rows in bootstrap: 3781\n",
      "      loan_request  amt_due_on_mort  value_of_property  years_at_job  \\\n",
      "5055      1.610805         3.016053           2.827104     -0.932158   \n",
      "4510      0.670060        -0.891080          -0.618837      0.673095   \n",
      "4167      0.476635         0.451469           0.578727     -0.263303   \n",
      "365      -1.061967        -0.047155          -0.066883     -1.199700   \n",
      "3618      0.186499        -0.724020          -0.636133     -0.263303   \n",
      "...            ...              ...                ...           ...   \n",
      "5012      1.461341         1.573865           1.600794      1.609493   \n",
      "380      -1.044383         0.003200           0.138381     -1.199700   \n",
      "5256      2.736182        -0.678387          -0.774498      0.405553   \n",
      "3131     -0.042093         0.969579           0.777298     -1.065929   \n",
      "5384      5.426538        -1.309551           0.096682      2.545890   \n",
      "\n",
      "      num_derog_reports  num_delinq_lines  oldest_cl_age  num_recent_cl  \\\n",
      "5055           0.996019         -0.390777       0.674063      -0.693180   \n",
      "4510           0.996019         -0.390777      -1.081861       2.830004   \n",
      "4167          -0.287802         -0.390777       0.223720      -0.693180   \n",
      "365           -0.287802          0.527039       0.185083      -0.693180   \n",
      "3618          -0.287802         -0.390777      -1.335644       0.481215   \n",
      "...                 ...               ...            ...            ...   \n",
      "5012          -0.287802         -0.390777       0.131216      -0.105982   \n",
      "380           -0.287802         -0.390777       0.598963      -0.693180   \n",
      "5256          -0.287802          0.527039      -0.915535       0.481215   \n",
      "3131          -0.287802         -0.390777      -0.251765       0.481215   \n",
      "5384          -0.287802         -0.390777      -0.506281      -0.693180   \n",
      "\n",
      "      num_of_cl  debt_to_inc_ratio  reason_for_loan_DebtCon  \\\n",
      "5055   1.036837          -0.362719                        1   \n",
      "4510  -0.551084           0.100426                        1   \n",
      "4167  -0.154104          -0.911258                        1   \n",
      "365    0.937592           0.184166                        0   \n",
      "3618  -0.253349           0.100426                        1   \n",
      "...         ...                ...                      ...   \n",
      "5012   0.044387           0.169080                        1   \n",
      "380    1.632308          -1.994516                        1   \n",
      "5256   0.441367           0.100426                        1   \n",
      "3131   0.342122           0.490480                        1   \n",
      "5384  -0.749574          -0.021916                        0   \n",
      "\n",
      "      reason_for_loan_HomeImp  occupation_Mgr  occupation_Office  \\\n",
      "5055                        0               0                  0   \n",
      "4510                        0               1                  0   \n",
      "4167                        0               0                  0   \n",
      "365                         1               0                  0   \n",
      "3618                        0               0                  0   \n",
      "...                       ...             ...                ...   \n",
      "5012                        0               0                  0   \n",
      "380                         0               0                  1   \n",
      "5256                        0               0                  1   \n",
      "3131                        0               0                  0   \n",
      "5384                        1               0                  0   \n",
      "\n",
      "      occupation_Other  occupation_ProfExe  occupation_Sales  occupation_Self  \n",
      "5055                 0                   1                 0                0  \n",
      "4510                 0                   0                 0                0  \n",
      "4167                 0                   1                 0                0  \n",
      "365                  1                   0                 0                0  \n",
      "3618                 1                   0                 0                0  \n",
      "...                ...                 ...               ...              ...  \n",
      "5012                 0                   1                 0                0  \n",
      "380                  0                   0                 0                0  \n",
      "5256                 0                   0                 0                0  \n",
      "3131                 1                   0                 0                0  \n",
      "5384                 1                   0                 0                0  \n",
      "\n",
      "[3781 rows x 18 columns]\n"
     ]
    }
   ],
   "source": [
    "def create_bootstrap_sample(df):\n",
    "    return df.sample(n= df.shape[0], replace = True)\n",
    "\n",
    "bootstrap_sample = create_bootstrap_sample(X_train)\n",
    "\n",
    "print('Number of rows should be the same:')\n",
    "print('Number of rows in X_train:  ', X_train.shape[0])\n",
    "print('Number of rows in bootstrap:', create_bootstrap_sample(X_train).shape[0])\n",
    "\n",
    "print(bootstrap_sample)"
   ]
  },
  {
   "cell_type": "markdown",
   "id": "64604143",
   "metadata": {},
   "source": [
    "## Boosting\n",
    "> \"Boosting is one of the most powerful learning ideas introduced in the last twenty years.\"\n",
    "\n",
    "Boosting is fundamentally different than bagging. Bagging ensembles attempt to reduce overall _variance_ by fitting models independently on bootstapped samples. Boosting methods attempt to reduce _bias_ by sequentially improving the overall predictions. That is, base learner $m$ attempts to correct the predictions produced by the base learner $m-1$, for $m=1$ to $M$."
   ]
  },
  {
   "cell_type": "code",
   "execution_count": 8,
   "id": "ac5ae215",
   "metadata": {},
   "outputs": [],
   "source": [
    "from sklearn.metrics import (\n",
    "    classification_report,\n",
    "    recall_score,\n",
    "    precision_score,\n",
    "    accuracy_score\n",
    ")"
   ]
  },
  {
   "cell_type": "code",
   "execution_count": 9,
   "id": "3e81ece1",
   "metadata": {},
   "outputs": [
    {
     "name": "stdout",
     "output_type": "stream",
     "text": [
      "Winning Model:\t {}, MODEL 1\n",
      "MODEL 1 Recall:\t 0.6933\n",
      "MODEL 2 Recall:\t 0.6411:\n"
     ]
    }
   ],
   "source": [
    "#Adaboost\n",
    "from sklearn.ensemble import AdaBoostClassifier\n",
    "from sklearn.tree import DecisionTreeClassifier\n",
    "base_est = DecisionTreeClassifier (max_depth =2)\n",
    "ada_boost1 = AdaBoostClassifier(base_est, n_estimators=500, random_state=42, learning_rate=.05)\n",
    "ada_boost1.fit(X_train, y_train)\n",
    "ada_boost2 = AdaBoostClassifier(base_est, n_estimators=20, random_state=42, learning_rate=.5)\n",
    "ada_boost2.fit(X_train, y_train)\n",
    "res1 = round(recall_score(y_test, ada_boost1.predict(X_test)),4)\n",
    "res2 = round(recall_score(y_test, ada_boost2.predict(X_test)),4)\n",
    "\n",
    "print('Winning Model:\\t {}, MODEL 1')\n",
    "print('MODEL 1 Recall:\\t {}'.format(res1))\n",
    "print('MODEL 2 Recall:\\t {}:'.format(res2))"
   ]
  },
  {
   "cell_type": "code",
   "execution_count": 10,
   "id": "966b1204",
   "metadata": {},
   "outputs": [
    {
     "name": "stdout",
     "output_type": "stream",
     "text": [
      "Recall :\t 0.6595\n",
      "Precision :\t 0.8333:\n"
     ]
    }
   ],
   "source": [
    "#Gradient Boosted Trees (GBT)\n",
    "from sklearn.ensemble import GradientBoostingClassifier\n",
    "gbc = GradientBoostingClassifier(random_state=42).fit(X_train, y_train)\n",
    "gbc_pred = gbc.predict(X_test)\n",
    "recall_gbc = round(recall_score(y_test, gbc_pred),4)\n",
    "precision_gbc = round(precision_score(y_test, gbc_pred),4)\n",
    "\n",
    "print('Recall :\\t {}'.format(recall_gbc))\n",
    "print('Precision :\\t {}:'.format(precision_gbc))"
   ]
  },
  {
   "cell_type": "code",
   "execution_count": null,
   "id": "4dba1f72",
   "metadata": {},
   "outputs": [],
   "source": []
  },
  {
   "cell_type": "markdown",
   "id": "ad2c0414",
   "metadata": {},
   "source": [
    "# Feature Selection"
   ]
  },
  {
   "cell_type": "code",
   "execution_count": 19,
   "id": "39e45d6d",
   "metadata": {},
   "outputs": [
    {
     "ename": "NameError",
     "evalue": "name 'rf_model' is not defined",
     "output_type": "error",
     "traceback": [
      "\u001b[1;31m---------------------------------------------------------------------------\u001b[0m",
      "\u001b[1;31mNameError\u001b[0m                                 Traceback (most recent call last)",
      "\u001b[1;32m~\\AppData\\Local\\Temp/ipykernel_22788/2926854904.py\u001b[0m in \u001b[0;36m<module>\u001b[1;34m\u001b[0m\n\u001b[1;32m----> 1\u001b[1;33m \u001b[0mfeature_importance\u001b[0m \u001b[1;33m=\u001b[0m \u001b[0mrf_model\u001b[0m\u001b[1;33m.\u001b[0m\u001b[0mfeature_importances_\u001b[0m\u001b[1;33m\u001b[0m\u001b[1;33m\u001b[0m\u001b[0m\n\u001b[0m",
      "\u001b[1;31mNameError\u001b[0m: name 'rf_model' is not defined"
     ]
    }
   ],
   "source": [
    "feature_importance = rf"
   ]
  }
 ],
 "metadata": {
  "kernelspec": {
   "display_name": "Python 3 (ipykernel)",
   "language": "python",
   "name": "python3"
  },
  "language_info": {
   "codemirror_mode": {
    "name": "ipython",
    "version": 3
   },
   "file_extension": ".py",
   "mimetype": "text/x-python",
   "name": "python",
   "nbconvert_exporter": "python",
   "pygments_lexer": "ipython3",
   "version": "3.9.7"
  }
 },
 "nbformat": 4,
 "nbformat_minor": 5
}
