{
 "cells": [
  {
   "cell_type": "code",
   "execution_count": 2,
   "id": "76892c2e",
   "metadata": {},
   "outputs": [],
   "source": [
    "import numpy as np\n",
    "import pandas as pd\n",
    "import matplotlib.pyplot as plt\n",
    "#import seaborn as sns\n",
    "from sklearn.model_selection import train_test_split"
   ]
  },
  {
   "cell_type": "code",
   "execution_count": 3,
   "id": "19876fd8",
   "metadata": {},
   "outputs": [],
   "source": [
    "data = pd.read_csv(\"bank_sample.csv\")\n",
    "\n",
    "# separate target variable from features"
   ]
  },
  {
   "cell_type": "code",
   "execution_count": 4,
   "id": "8f8cedaa",
   "metadata": {},
   "outputs": [],
   "source": [
    "y = data.loc[:, ['purchased']]\n",
    "x = data.loc[:, ['age', 'duration', 'campaign', 'pdays', 'emp.var.rate',\n",
    "       'cons.price.idx', 'cons.conf.idx', 'euribor3m', 'nr.employed',\n",
    "       'purchased', 'id', 'job', 'marital', 'education', 'default', 'housing',\n",
    "       'loan', 'contact', 'month', 'day_of_week', 'poutcome']]"
   ]
  },
  {
   "cell_type": "code",
   "execution_count": 5,
   "id": "29a3d1ba",
   "metadata": {},
   "outputs": [
    {
     "name": "stdout",
     "output_type": "stream",
     "text": [
      "(3295, 22)\n",
      "(3295, 21)\n",
      "(3295, 1)\n"
     ]
    }
   ],
   "source": [
    "print(data.shape)\n",
    "print(x.shape)\n",
    "print(y.shape)\n",
    "\n",
    "# partition data into training and testing sets\n",
    "X_train, X_test, y_train, y_test = train_test_split(\n",
    "                                                    x,\n",
    "                                                    y,\n",
    "                                                    test_size=0.3,\n",
    "                                                    random_state=42\n",
    "                                                    )\n"
   ]
  },
  {
   "cell_type": "code",
   "execution_count": 6,
   "id": "bf72efcd",
   "metadata": {},
   "outputs": [
    {
     "name": "stderr",
     "output_type": "stream",
     "text": [
      "C:\\Users\\pkumari3\\AppData\\Local\\Temp/ipykernel_24680/1697152284.py:5: DataConversionWarning: A column-vector y was passed when a 1d array was expected. Please change the shape of y to (n_samples,), for example using ravel().\n",
      "  clf.fit(X_train, y_train)\n",
      "C:\\ProgramData\\Anaconda3\\lib\\site-packages\\sklearn\\ensemble\\_forest.py:541: UserWarning: Some inputs do not have OOB scores. This probably means too few trees were used to compute any reliable oob estimates.\n",
      "  warn(\"Some inputs do not have OOB scores. \"\n",
      "C:\\ProgramData\\Anaconda3\\lib\\site-packages\\sklearn\\ensemble\\_forest.py:545: RuntimeWarning: invalid value encountered in true_divide\n",
      "  decision = (predictions[k] /\n"
     ]
    }
   ],
   "source": [
    "from sklearn.ensemble import RandomForestClassifier\n",
    "\n",
    "clf = RandomForestClassifier(bootstrap=True, criterion='gini', max_depth=3, n_estimators=10, oob_score=True, random_state=42)\n",
    "\n",
    "clf.fit(X_train, y_train)\n",
    "predict_rf = clf.predict(X_test)"
   ]
  },
  {
   "cell_type": "code",
   "execution_count": 7,
   "id": "d0c0248c",
   "metadata": {},
   "outputs": [
    {
     "name": "stdout",
     "output_type": "stream",
     "text": [
      "Test Accuracy\n",
      "0.9787664307381193\n",
      "Train Accuracy\n",
      "0.9839549002601908\n"
     ]
    }
   ],
   "source": [
    "from sklearn.metrics import accuracy_score\n",
    "# test accuracy\n",
    "print (\"Test Accuracy\")\n",
    "print(accuracy_score(y_test, predict_rf))\n",
    "# training accuracy\n",
    "print (\"Train Accuracy\")\n",
    "print(accuracy_score(y_train, clf.predict(X_train)))"
   ]
  },
  {
   "cell_type": "code",
   "execution_count": 8,
   "id": "169dec7e",
   "metadata": {},
   "outputs": [],
   "source": [
    "#dummy classifier\n",
    "from sklearn.dummy import DummyClassifier\n",
    "dummy_classifier = DummyClassifier(strategy='most_frequent')\n",
    "dummy_classifier.fit(X_train,y_train)\n",
    "baseline_acc = dummy_classifier.score(X_test,y_test)\n"
   ]
  },
  {
   "cell_type": "code",
   "execution_count": 9,
   "id": "4a29653c",
   "metadata": {},
   "outputs": [
    {
     "name": "stdout",
     "output_type": "stream",
     "text": [
      "Baseline Accuracy =  0.8988877654196158\n"
     ]
    }
   ],
   "source": [
    "### For verifying answer:\n",
    "print(\"Baseline Accuracy = \", baseline_acc)"
   ]
  }
 ],
 "metadata": {
  "kernelspec": {
   "display_name": "Python 3 (ipykernel)",
   "language": "python",
   "name": "python3"
  },
  "language_info": {
   "codemirror_mode": {
    "name": "ipython",
    "version": 3
   },
   "file_extension": ".py",
   "mimetype": "text/x-python",
   "name": "python",
   "nbconvert_exporter": "python",
   "pygments_lexer": "ipython3",
   "version": "3.9.7"
  }
 },
 "nbformat": 4,
 "nbformat_minor": 5
}
