{
 "cells": [
  {
   "cell_type": "markdown",
   "id": "038b164d",
   "metadata": {},
   "source": [
    "# Bagging\n",
    "\n",
    "The dataset can be found in the link - https://drive.google.com/drive/folders/1NxCh4X7u7wVo5aHojxjLNs9wC7B7zJhb?usp=sharing\n",
    "\n",
    "Alternatively, you can download the dataset from the same segment on upGrad platform "
   ]
  },
  {
   "cell_type": "code",
   "execution_count": 1,
   "id": "34ad439d",
   "metadata": {},
   "outputs": [],
   "source": [
    "#Importing the libraries\n",
    "import numpy as np\n",
    "import pandas as pd\n",
    "import matplotlib.pyplot as plt\n",
    "import seaborn as sns\n",
    "from sklearn.model_selection import train_test_split\n",
    "import warnings\n",
    "warnings.filterwarnings(\"ignore\")"
   ]
  },
  {
   "cell_type": "code",
   "execution_count": 2,
   "id": "500c8c93",
   "metadata": {},
   "outputs": [
    {
     "data": {
      "text/html": [
       "<div>\n",
       "<style scoped>\n",
       "    .dataframe tbody tr th:only-of-type {\n",
       "        vertical-align: middle;\n",
       "    }\n",
       "\n",
       "    .dataframe tbody tr th {\n",
       "        vertical-align: top;\n",
       "    }\n",
       "\n",
       "    .dataframe thead th {\n",
       "        text-align: right;\n",
       "    }\n",
       "</style>\n",
       "<table border=\"1\" class=\"dataframe\">\n",
       "  <thead>\n",
       "    <tr style=\"text-align: right;\">\n",
       "      <th></th>\n",
       "      <th>bad_loan</th>\n",
       "      <th>loan_request</th>\n",
       "      <th>amt_due_on_mort</th>\n",
       "      <th>value_of_property</th>\n",
       "      <th>years_at_job</th>\n",
       "      <th>num_derog_reports</th>\n",
       "      <th>num_delinq_lines</th>\n",
       "      <th>oldest_cl_age</th>\n",
       "      <th>num_recent_cl</th>\n",
       "      <th>num_of_cl</th>\n",
       "      <th>debt_to_inc_ratio</th>\n",
       "      <th>reason_for_loan_DebtCon</th>\n",
       "      <th>reason_for_loan_HomeImp</th>\n",
       "      <th>occupation_Mgr</th>\n",
       "      <th>occupation_Office</th>\n",
       "      <th>occupation_Other</th>\n",
       "      <th>occupation_ProfExe</th>\n",
       "      <th>occupation_Sales</th>\n",
       "      <th>occupation_Self</th>\n",
       "    </tr>\n",
       "  </thead>\n",
       "  <tbody>\n",
       "    <tr>\n",
       "      <th>0</th>\n",
       "      <td>1.0</td>\n",
       "      <td>-1.563111</td>\n",
       "      <td>-1.092273</td>\n",
       "      <td>-1.119977</td>\n",
       "      <td>0.204896</td>\n",
       "      <td>-0.287802</td>\n",
       "      <td>-0.390777</td>\n",
       "      <td>-1.010801</td>\n",
       "      <td>-0.105982</td>\n",
       "      <td>-1.245799</td>\n",
       "      <td>0.100426</td>\n",
       "      <td>0</td>\n",
       "      <td>1</td>\n",
       "      <td>0</td>\n",
       "      <td>0</td>\n",
       "      <td>1</td>\n",
       "      <td>0</td>\n",
       "      <td>0</td>\n",
       "      <td>0</td>\n",
       "    </tr>\n",
       "    <tr>\n",
       "      <th>1</th>\n",
       "      <td>1.0</td>\n",
       "      <td>-1.545527</td>\n",
       "      <td>-0.083958</td>\n",
       "      <td>-0.611919</td>\n",
       "      <td>-0.263303</td>\n",
       "      <td>-0.287802</td>\n",
       "      <td>1.444855</td>\n",
       "      <td>-0.689082</td>\n",
       "      <td>-0.693180</td>\n",
       "      <td>-0.749574</td>\n",
       "      <td>0.100426</td>\n",
       "      <td>0</td>\n",
       "      <td>1</td>\n",
       "      <td>0</td>\n",
       "      <td>0</td>\n",
       "      <td>1</td>\n",
       "      <td>0</td>\n",
       "      <td>0</td>\n",
       "      <td>0</td>\n",
       "    </tr>\n",
       "    <tr>\n",
       "      <th>2</th>\n",
       "      <td>1.0</td>\n",
       "      <td>-1.527943</td>\n",
       "      <td>-1.374281</td>\n",
       "      <td>-1.506102</td>\n",
       "      <td>-0.664616</td>\n",
       "      <td>-0.287802</td>\n",
       "      <td>-0.390777</td>\n",
       "      <td>-0.365411</td>\n",
       "      <td>-0.105982</td>\n",
       "      <td>-1.146554</td>\n",
       "      <td>0.100426</td>\n",
       "      <td>0</td>\n",
       "      <td>1</td>\n",
       "      <td>0</td>\n",
       "      <td>0</td>\n",
       "      <td>1</td>\n",
       "      <td>0</td>\n",
       "      <td>0</td>\n",
       "      <td>0</td>\n",
       "    </tr>\n",
       "    <tr>\n",
       "      <th>3</th>\n",
       "      <td>0.0</td>\n",
       "      <td>-1.510359</td>\n",
       "      <td>0.549123</td>\n",
       "      <td>0.142169</td>\n",
       "      <td>-0.798387</td>\n",
       "      <td>-0.287802</td>\n",
       "      <td>-0.390777</td>\n",
       "      <td>-1.022905</td>\n",
       "      <td>-0.693180</td>\n",
       "      <td>-0.749574</td>\n",
       "      <td>0.100426</td>\n",
       "      <td>0</td>\n",
       "      <td>1</td>\n",
       "      <td>0</td>\n",
       "      <td>1</td>\n",
       "      <td>0</td>\n",
       "      <td>0</td>\n",
       "      <td>0</td>\n",
       "      <td>0</td>\n",
       "    </tr>\n",
       "    <tr>\n",
       "      <th>4</th>\n",
       "      <td>1.0</td>\n",
       "      <td>-1.510359</td>\n",
       "      <td>-0.985310</td>\n",
       "      <td>-1.097579</td>\n",
       "      <td>0.004239</td>\n",
       "      <td>-0.287802</td>\n",
       "      <td>-0.390777</td>\n",
       "      <td>-0.927646</td>\n",
       "      <td>-0.105982</td>\n",
       "      <td>-1.345045</td>\n",
       "      <td>0.362816</td>\n",
       "      <td>0</td>\n",
       "      <td>1</td>\n",
       "      <td>0</td>\n",
       "      <td>0</td>\n",
       "      <td>1</td>\n",
       "      <td>0</td>\n",
       "      <td>0</td>\n",
       "      <td>0</td>\n",
       "    </tr>\n",
       "  </tbody>\n",
       "</table>\n",
       "</div>"
      ],
      "text/plain": [
       "   bad_loan  loan_request  amt_due_on_mort  value_of_property  years_at_job  \\\n",
       "0       1.0     -1.563111        -1.092273          -1.119977      0.204896   \n",
       "1       1.0     -1.545527        -0.083958          -0.611919     -0.263303   \n",
       "2       1.0     -1.527943        -1.374281          -1.506102     -0.664616   \n",
       "3       0.0     -1.510359         0.549123           0.142169     -0.798387   \n",
       "4       1.0     -1.510359        -0.985310          -1.097579      0.004239   \n",
       "\n",
       "   num_derog_reports  num_delinq_lines  oldest_cl_age  num_recent_cl  \\\n",
       "0          -0.287802         -0.390777      -1.010801      -0.105982   \n",
       "1          -0.287802          1.444855      -0.689082      -0.693180   \n",
       "2          -0.287802         -0.390777      -0.365411      -0.105982   \n",
       "3          -0.287802         -0.390777      -1.022905      -0.693180   \n",
       "4          -0.287802         -0.390777      -0.927646      -0.105982   \n",
       "\n",
       "   num_of_cl  debt_to_inc_ratio  reason_for_loan_DebtCon  \\\n",
       "0  -1.245799           0.100426                        0   \n",
       "1  -0.749574           0.100426                        0   \n",
       "2  -1.146554           0.100426                        0   \n",
       "3  -0.749574           0.100426                        0   \n",
       "4  -1.345045           0.362816                        0   \n",
       "\n",
       "   reason_for_loan_HomeImp  occupation_Mgr  occupation_Office  \\\n",
       "0                        1               0                  0   \n",
       "1                        1               0                  0   \n",
       "2                        1               0                  0   \n",
       "3                        1               0                  1   \n",
       "4                        1               0                  0   \n",
       "\n",
       "   occupation_Other  occupation_ProfExe  occupation_Sales  occupation_Self  \n",
       "0                 1                   0                 0                0  \n",
       "1                 1                   0                 0                0  \n",
       "2                 1                   0                 0                0  \n",
       "3                 0                   0                 0                0  \n",
       "4                 1                   0                 0                0  "
      ]
     },
     "metadata": {},
     "output_type": "display_data"
    }
   ],
   "source": [
    "# read in the data and display the first 5 rows:\n",
    "data = pd.read_csv('hmeq-preprocessed.csv')\n",
    "display(data.head())"
   ]
  },
  {
   "cell_type": "markdown",
   "id": "784886b5",
   "metadata": {},
   "source": [
    "### 1. Get the distribution of the target variable using countplot: `bad_loan`"
   ]
  },
  {
   "cell_type": "code",
   "execution_count": 3,
   "id": "1b1ec049",
   "metadata": {},
   "outputs": [
    {
     "data": {
      "image/png": "[encoded data removed]",
      "text/plain": [
       "<Figure size 432x288 with 1 Axes>"
      ]
     },
     "metadata": {
      "needs_background": "light"
     },
     "output_type": "display_data"
    }
   ],
   "source": [
    "sns.countplot(x='bad_loan', data=data)\n",
    "plt.show()"
   ]
  },
  {
   "cell_type": "code",
   "execution_count": 4,
   "id": "82b689a1",
   "metadata": {},
   "outputs": [
    {
     "name": "stdout",
     "output_type": "stream",
     "text": [
      "(5402, 19)\n",
      "(5402, 18)\n",
      "(5402,)\n"
     ]
    }
   ],
   "source": [
    "# separate target variable from features\n",
    "X = data.iloc[:, 1:]\n",
    "y = data.iloc[:, 0]\n",
    "\n",
    "print(data.shape)\n",
    "print(X.shape)\n",
    "print(y.shape)\n",
    "\n",
    "# partition data into training and testing sets\n",
    "X_train, X_test, y_train, y_test = train_test_split(\n",
    "                                                    X,\n",
    "                                                    y,\n",
    "                                                    test_size=0.3,\n",
    "                                                    stratify=y,\n",
    "                                                    random_state=42\n",
    "                                                    )"
   ]
  },
  {
   "cell_type": "markdown",
   "id": "4341efeb",
   "metadata": {},
   "source": [
    "### 2. Compute the baseline classification accuracy for `X_train`?\n",
    "> - HINT: The [DummyClassifier](#https://scikit-learn.org/stable/modules/generated/sklearn.dummy.DummyClassifier.html) may be helpful.\n",
    "> - Use the `most_frequent` strategy of calculating the baseline accuracy"
   ]
  },
  {
   "cell_type": "code",
   "execution_count": 5,
   "id": "d778815f",
   "metadata": {},
   "outputs": [],
   "source": [
    "#Import Dummy Classifier\n",
    "from sklearn.dummy import DummyClassifier"
   ]
  },
  {
   "cell_type": "code",
   "execution_count": 6,
   "id": "db0e2a79",
   "metadata": {},
   "outputs": [
    {
     "name": "stdout",
     "output_type": "stream",
     "text": [
      "Baseline Accuracy =  0.7988895743368292\n"
     ]
    }
   ],
   "source": [
    "dummy_classifier = DummyClassifier(strategy='most_frequent')\n",
    "dummy_classifier.fit(X_train,y_train)\n",
    "baseline_acc = dummy_classifier.score(X_test,y_test)\n",
    "\n",
    "\n",
    "### For verifying answer:\n",
    "print(\"Baseline Accuracy = \", baseline_acc)"
   ]
  },
  {
   "cell_type": "code",
   "execution_count": 7,
   "id": "9952277d",
   "metadata": {},
   "outputs": [
    {
     "name": "stdout",
     "output_type": "stream",
     "text": [
      "Number of rows should be the same:\n",
      "Number of rows in X_train:   3781\n",
      "Number of rows in bootstrap: 3781\n",
      "      loan_request  amt_due_on_mort  value_of_property  years_at_job  \\\n",
      "2940     -0.121221        -0.130799           0.505636      1.341950   \n",
      "1715     -0.534446        -0.437768          -0.706941     -0.798387   \n",
      "3909      0.327171         0.519119           0.288663      0.004239   \n",
      "1608     -0.578406         1.535238           0.929309     -0.664616   \n",
      "744      -0.877334        -0.237077          -0.441125      1.341950   \n",
      "...            ...              ...                ...           ...   \n",
      "4864      1.065700         1.010009           1.093427      1.074408   \n",
      "3746      0.248043         0.440175           0.634022     -0.530845   \n",
      "2530     -0.261894        -0.803557          -0.924814     -0.397074   \n",
      "1180     -0.719078         1.209674           1.397034     -0.129532   \n",
      "4089      0.423883         1.611740           1.334303     -0.530845   \n",
      "\n",
      "      num_derog_reports  num_delinq_lines  oldest_cl_age  num_recent_cl  \\\n",
      "2940           0.996019          0.527039      -0.037055       2.242807   \n",
      "1715          -0.287802         -0.390777      -0.060248      -0.105982   \n",
      "3909          -0.287802         -0.390777      -0.794418       0.481215   \n",
      "1608          -0.287802          0.527039       2.613014      -0.693180   \n",
      "744           -0.287802         -0.390777      -0.216306      -0.105982   \n",
      "...                 ...               ...            ...            ...   \n",
      "4864          -0.287802         -0.390777      -0.628174      -0.105982   \n",
      "3746          -0.287802         -0.390777      -0.169674      -0.693180   \n",
      "2530           0.996019         -0.390777      -0.923428      -0.105982   \n",
      "1180          -0.287802         -0.390777       0.529510      -0.693180   \n",
      "4089          -0.287802         -0.390777      -0.056787       2.242807   \n",
      "\n",
      "      num_of_cl  debt_to_inc_ratio  reason_for_loan_DebtCon  \\\n",
      "2940  -0.054859           0.100426                        1   \n",
      "1715  -0.551084          -0.755782                        1   \n",
      "3909   0.242877          -0.330600                        0   \n",
      "1608   2.128533          -0.632234                        0   \n",
      "744   -1.047309          -0.231927                        1   \n",
      "...         ...                ...                      ...   \n",
      "4864  -0.451839           0.100426                        1   \n",
      "3746   1.036837          -0.210466                        0   \n",
      "2530  -0.551084           0.595932                        1   \n",
      "1180  -0.253349          -0.030498                        1   \n",
      "4089   2.128533           0.785943                        1   \n",
      "\n",
      "      reason_for_loan_HomeImp  occupation_Mgr  occupation_Office  \\\n",
      "2940                        0               0                  1   \n",
      "1715                        0               1                  0   \n",
      "3909                        1               1                  0   \n",
      "1608                        1               0                  0   \n",
      "744                         0               0                  0   \n",
      "...                       ...             ...                ...   \n",
      "4864                        0               0                  0   \n",
      "3746                        1               0                  0   \n",
      "2530                        0               0                  0   \n",
      "1180                        0               0                  0   \n",
      "4089                        0               0                  0   \n",
      "\n",
      "      occupation_Other  occupation_ProfExe  occupation_Sales  occupation_Self  \n",
      "2940                 0                   0                 0                0  \n",
      "1715                 0                   0                 0                0  \n",
      "3909                 0                   0                 0                0  \n",
      "1608                 0                   1                 0                0  \n",
      "744                  1                   0                 0                0  \n",
      "...                ...                 ...               ...              ...  \n",
      "4864                 0                   1                 0                0  \n",
      "3746                 0                   1                 0                0  \n",
      "2530                 1                   0                 0                0  \n",
      "1180                 1                   0                 0                0  \n",
      "4089                 0                   1                 0                0  \n",
      "\n",
      "[3781 rows x 18 columns]\n"
     ]
    }
   ],
   "source": [
    "def create_bootstrap_sample(df):\n",
    "    return df.sample(n= df.shape[0], replace = True)\n",
    "\n",
    "bootstrap_sample = create_bootstrap_sample(X_train)\n",
    "\n",
    "print('Number of rows should be the same:')\n",
    "print('Number of rows in X_train:  ', X_train.shape[0])\n",
    "print('Number of rows in bootstrap:', create_bootstrap_sample(X_train).shape[0])\n",
    "\n",
    "print(bootstrap_sample)"
   ]
  },
  {
   "cell_type": "markdown",
   "id": "64604143",
   "metadata": {},
   "source": [
    "### 3. Use the [`BaggingClassifier`](#https://scikit-learn.org/stable/modules/generated/sklearn.ensemble.BaggingClassifier.html#sklearn.ensemble.BaggingClassifier) class from Scikit-Learn, instantiate and fit a model with all the training data.\n",
    "> **Make sure to set the `random_state` parameter using `BaggingClassifier(random_state=42)` to ensure reproducibility!**"
   ]
  },
  {
   "cell_type": "code",
   "execution_count": 8,
   "id": "3e81ece1",
   "metadata": {},
   "outputs": [
    {
     "name": "stdout",
     "output_type": "stream",
     "text": [
      " Accuracy =  0.8969771745835904\n"
     ]
    }
   ],
   "source": [
    "from sklearn.ensemble import BaggingClassifier\n",
    "from sklearn.metrics import accuracy_score\n",
    "\n",
    "model_bagging = BaggingClassifier(random_state = 42)\n",
    "model_bagging.fit(X_train, y_train)\n",
    "pred_bagging = model_bagging.predict(X_test)\n",
    "acc_bagging = accuracy_score(y_test, pred_bagging)\n",
    "\n",
    "print(' Accuracy = ', acc_bagging)"
   ]
  },
  {
   "cell_type": "code",
   "execution_count": 9,
   "id": "49f38051",
   "metadata": {},
   "outputs": [
    {
     "name": "stdout",
     "output_type": "stream",
     "text": [
      "Classification Report:\n",
      "\n",
      "              precision    recall  f1-score   support\n",
      "\n",
      "         0.0       0.91      0.96      0.94      1295\n",
      "         1.0       0.80      0.64      0.72       326\n",
      "\n",
      "    accuracy                           0.90      1621\n",
      "   macro avg       0.86      0.80      0.83      1621\n",
      "weighted avg       0.89      0.90      0.89      1621\n",
      "\n"
     ]
    }
   ],
   "source": [
    "from sklearn.metrics import (\n",
    "    classification_report,\n",
    "    recall_score,\n",
    "    precision_score,\n",
    "    accuracy_score\n",
    ")\n",
    "print('Classification Report:\\n')\n",
    "print(classification_report(y_test, pred_bagging))"
   ]
  },
  {
   "cell_type": "code",
   "execution_count": 10,
   "id": "a6e078d8",
   "metadata": {},
   "outputs": [],
   "source": [
    "def print_recall_scores(ensemble, feats, true_labels):\n",
    "    '''\n",
    "    Prints the recall scores for base estimators in a sklearn ensemble model.\n",
    "    '''\n",
    "    scores = []\n",
    "    for model_idx, model in enumerate(ensemble.estimators_):\n",
    "        if model_idx == 0:\n",
    "            print('='*40)\n",
    "        preds = model.predict(feats)\n",
    "        scores.append(recall_score(true_labels, preds))\n",
    "        model_recall = np.round(recall_score(true_labels, preds), 5)\n",
    "        print(f'Recall for Base Model {model_idx+1}:\\t', model_recall)\n",
    "        if model_idx < (len(ensemble.estimators_) - 1):\n",
    "            print('-'*40)\n",
    "        else:\n",
    "            print('='*40)\n",
    "    ensemble_preds = ensemble.predict(feats)\n",
    "    print(\"Mean Recall Score:\\t\\t\", np.round(np.array(scores).mean(), 5))\n",
    "    print(\"Std Deviation:\\t\\t\\t\", np.round(np.array(scores).std(), 5))\n",
    "    print(\"Range:\\t\\t\\t\\t\", np.round(np.array(scores).ptp(), 5))\n",
    "    print(f'Overall Recall for model:\\t {np.round(recall_score(y_test, ensemble_preds), 5)}')"
   ]
  },
  {
   "cell_type": "code",
   "execution_count": 11,
   "id": "670ceb4f",
   "metadata": {},
   "outputs": [
    {
     "name": "stdout",
     "output_type": "stream",
     "text": [
      "========================================\n",
      "Recall for Base Model 1:\t 0.61963\n",
      "----------------------------------------\n",
      "Recall for Base Model 2:\t 0.62577\n",
      "----------------------------------------\n",
      "Recall for Base Model 3:\t 0.6227\n",
      "----------------------------------------\n",
      "Recall for Base Model 4:\t 0.61043\n",
      "----------------------------------------\n",
      "Recall for Base Model 5:\t 0.59816\n",
      "----------------------------------------\n",
      "Recall for Base Model 6:\t 0.64417\n",
      "----------------------------------------\n",
      "Recall for Base Model 7:\t 0.60429\n",
      "----------------------------------------\n",
      "Recall for Base Model 8:\t 0.61656\n",
      "----------------------------------------\n",
      "Recall for Base Model 9:\t 0.66258\n",
      "----------------------------------------\n",
      "Recall for Base Model 10:\t 0.62883\n",
      "========================================\n",
      "Mean Recall Score:\t\t 0.62331\n",
      "Std Deviation:\t\t\t 0.01798\n",
      "Range:\t\t\t\t 0.06442\n",
      "Overall Recall for model:\t 0.64417\n"
     ]
    }
   ],
   "source": [
    "print_recall_scores(model_bagging, X_test, y_test)"
   ]
  }
 ],
 "metadata": {
  "kernelspec": {
   "display_name": "Python 3 (ipykernel)",
   "language": "python",
   "name": "python3"
  },
  "language_info": {
   "codemirror_mode": {
    "name": "ipython",
    "version": 3
   },
   "file_extension": ".py",
   "mimetype": "text/x-python",
   "name": "python",
   "nbconvert_exporter": "python",
   "pygments_lexer": "ipython3",
   "version": "3.9.7"
  }
 },
 "nbformat": 4,
 "nbformat_minor": 5
}
