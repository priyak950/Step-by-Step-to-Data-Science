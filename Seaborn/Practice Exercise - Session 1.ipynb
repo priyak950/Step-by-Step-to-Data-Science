{
 "cells": [
  {
   "cell_type": "code",
   "execution_count": 1,
   "metadata": {},
   "outputs": [],
   "source": [
    "#Import all the necessary libraries\n",
    "import pandas as pd\n",
    "import numpy as np\n",
    "import matplotlib.pyplot as plt"
   ]
  },
  {
   "cell_type": "markdown",
   "metadata": {},
   "source": [
    "### I - Virat Kohli Dataset"
   ]
  },
  {
   "cell_type": "code",
   "execution_count": 64,
   "metadata": {},
   "outputs": [
    {
     "data": {
      "text/html": [
       "<div>\n",
       "<style scoped>\n",
       "    .dataframe tbody tr th:only-of-type {\n",
       "        vertical-align: middle;\n",
       "    }\n",
       "\n",
       "    .dataframe tbody tr th {\n",
       "        vertical-align: top;\n",
       "    }\n",
       "\n",
       "    .dataframe thead th {\n",
       "        text-align: right;\n",
       "    }\n",
       "</style>\n",
       "<table border=\"1\" class=\"dataframe\">\n",
       "  <thead>\n",
       "    <tr style=\"text-align: right;\">\n",
       "      <th></th>\n",
       "      <th>Runs</th>\n",
       "      <th>Mins</th>\n",
       "      <th>BF</th>\n",
       "      <th>4s</th>\n",
       "      <th>6s</th>\n",
       "      <th>SR</th>\n",
       "      <th>Pos</th>\n",
       "      <th>Dismissal</th>\n",
       "      <th>Inns</th>\n",
       "      <th>Opposition</th>\n",
       "      <th>Ground</th>\n",
       "      <th>Start Date</th>\n",
       "    </tr>\n",
       "  </thead>\n",
       "  <tbody>\n",
       "    <tr>\n",
       "      <th>0</th>\n",
       "      <td>12</td>\n",
       "      <td>33</td>\n",
       "      <td>22</td>\n",
       "      <td>1</td>\n",
       "      <td>0</td>\n",
       "      <td>54.54</td>\n",
       "      <td>2</td>\n",
       "      <td>lbw</td>\n",
       "      <td>1</td>\n",
       "      <td>v Sri Lanka</td>\n",
       "      <td>Dambulla</td>\n",
       "      <td>18-Aug-08</td>\n",
       "    </tr>\n",
       "    <tr>\n",
       "      <th>1</th>\n",
       "      <td>37</td>\n",
       "      <td>82</td>\n",
       "      <td>67</td>\n",
       "      <td>6</td>\n",
       "      <td>0</td>\n",
       "      <td>55.22</td>\n",
       "      <td>2</td>\n",
       "      <td>caught</td>\n",
       "      <td>2</td>\n",
       "      <td>v Sri Lanka</td>\n",
       "      <td>Dambulla</td>\n",
       "      <td>20-Aug-08</td>\n",
       "    </tr>\n",
       "    <tr>\n",
       "      <th>2</th>\n",
       "      <td>25</td>\n",
       "      <td>40</td>\n",
       "      <td>38</td>\n",
       "      <td>4</td>\n",
       "      <td>0</td>\n",
       "      <td>65.78</td>\n",
       "      <td>1</td>\n",
       "      <td>run out</td>\n",
       "      <td>1</td>\n",
       "      <td>v Sri Lanka</td>\n",
       "      <td>Colombo (RPS)</td>\n",
       "      <td>24-Aug-08</td>\n",
       "    </tr>\n",
       "    <tr>\n",
       "      <th>3</th>\n",
       "      <td>54</td>\n",
       "      <td>87</td>\n",
       "      <td>66</td>\n",
       "      <td>7</td>\n",
       "      <td>0</td>\n",
       "      <td>81.81</td>\n",
       "      <td>1</td>\n",
       "      <td>bowled</td>\n",
       "      <td>1</td>\n",
       "      <td>v Sri Lanka</td>\n",
       "      <td>Colombo (RPS)</td>\n",
       "      <td>27-Aug-08</td>\n",
       "    </tr>\n",
       "    <tr>\n",
       "      <th>4</th>\n",
       "      <td>31</td>\n",
       "      <td>45</td>\n",
       "      <td>46</td>\n",
       "      <td>3</td>\n",
       "      <td>1</td>\n",
       "      <td>67.39</td>\n",
       "      <td>1</td>\n",
       "      <td>lbw</td>\n",
       "      <td>2</td>\n",
       "      <td>v Sri Lanka</td>\n",
       "      <td>Colombo (RPS)</td>\n",
       "      <td>29-Aug-08</td>\n",
       "    </tr>\n",
       "  </tbody>\n",
       "</table>\n",
       "</div>"
      ],
      "text/plain": [
       "  Runs Mins  BF  4s  6s     SR  Pos Dismissal  Inns   Opposition  \\\n",
       "0   12   33  22   1   0  54.54    2       lbw     1  v Sri Lanka   \n",
       "1   37   82  67   6   0  55.22    2    caught     2  v Sri Lanka   \n",
       "2   25   40  38   4   0  65.78    1   run out     1  v Sri Lanka   \n",
       "3   54   87  66   7   0  81.81    1    bowled     1  v Sri Lanka   \n",
       "4   31   45  46   3   1  67.39    1       lbw     2  v Sri Lanka   \n",
       "\n",
       "          Ground Start Date  \n",
       "0       Dambulla  18-Aug-08  \n",
       "1       Dambulla  20-Aug-08  \n",
       "2  Colombo (RPS)  24-Aug-08  \n",
       "3  Colombo (RPS)  27-Aug-08  \n",
       "4  Colombo (RPS)  29-Aug-08  "
      ]
     },
     "execution_count": 64,
     "metadata": {},
     "output_type": "execute_result"
    }
   ],
   "source": [
    "df = pd.read_csv(\"virat.csv\")\n",
    "df.head()"
   ]
  },
  {
   "cell_type": "code",
   "execution_count": 35,
   "metadata": {},
   "outputs": [
    {
     "data": {
      "text/plain": [
       "array(['12', '37', '25', '54', '31', '2*', '30', '10', '27', '107', '91',\n",
       "       '102*', '57', '0', '18', '28', '118', '105', '64', '63*', '2',\n",
       "       '22', '87*', '100*', '34', '1', '59', '24', '9', '35', '81', '94',\n",
       "       '7', '112*', '86*', '3', '117', '20', '23*', '80', '21', '66',\n",
       "       '106', '38', '128*', '23', '6', '15', '77*', '26', '43', '11',\n",
       "       '102', '115', '14', '68*', '61', '68', '115*', '86', '99', '19',\n",
       "       '123', '78', '82', '136', '40', '1*', '13', '62', '127', '49',\n",
       "       '53', '139*', '77', '138', '8', '85*', '154*', '45', '65', '122',\n",
       "       '55'], dtype=object)"
      ]
     },
     "execution_count": 35,
     "metadata": {},
     "output_type": "execute_result"
    }
   ],
   "source": [
    "df.Runs.unique()"
   ]
  },
  {
   "cell_type": "markdown",
   "metadata": {},
   "source": [
    "#### Spread in Runs\n",
    "Question 1: Analyse the spread of Runs scored by Virat in all his matches and report the difference between the scores at the 50th percentile and the 25th percentile respectively.\n",
    "\n",
    "    a)16.5\n",
    "    b)22.5\n",
    "    c)26.5\n",
    "    d)32.5\n",
    "\n"
   ]
  },
  {
   "cell_type": "code",
   "execution_count": 65,
   "metadata": {},
   "outputs": [
    {
     "data": {
      "text/html": [
       "<div>\n",
       "<style scoped>\n",
       "    .dataframe tbody tr th:only-of-type {\n",
       "        vertical-align: middle;\n",
       "    }\n",
       "\n",
       "    .dataframe tbody tr th {\n",
       "        vertical-align: top;\n",
       "    }\n",
       "\n",
       "    .dataframe thead th {\n",
       "        text-align: right;\n",
       "    }\n",
       "</style>\n",
       "<table border=\"1\" class=\"dataframe\">\n",
       "  <thead>\n",
       "    <tr style=\"text-align: right;\">\n",
       "      <th></th>\n",
       "      <th>Runs</th>\n",
       "      <th>BF</th>\n",
       "      <th>4s</th>\n",
       "      <th>6s</th>\n",
       "      <th>Pos</th>\n",
       "      <th>Inns</th>\n",
       "    </tr>\n",
       "  </thead>\n",
       "  <tbody>\n",
       "    <tr>\n",
       "      <th>count</th>\n",
       "      <td>132.000000</td>\n",
       "      <td>132.000000</td>\n",
       "      <td>132.000000</td>\n",
       "      <td>132.000000</td>\n",
       "      <td>132.000000</td>\n",
       "      <td>132.000000</td>\n",
       "    </tr>\n",
       "    <tr>\n",
       "      <th>mean</th>\n",
       "      <td>46.848485</td>\n",
       "      <td>50.871212</td>\n",
       "      <td>4.371212</td>\n",
       "      <td>0.545455</td>\n",
       "      <td>3.303030</td>\n",
       "      <td>1.575758</td>\n",
       "    </tr>\n",
       "    <tr>\n",
       "      <th>std</th>\n",
       "      <td>41.994635</td>\n",
       "      <td>38.729716</td>\n",
       "      <td>4.404032</td>\n",
       "      <td>1.086795</td>\n",
       "      <td>0.873174</td>\n",
       "      <td>0.496110</td>\n",
       "    </tr>\n",
       "    <tr>\n",
       "      <th>min</th>\n",
       "      <td>0.000000</td>\n",
       "      <td>0.000000</td>\n",
       "      <td>0.000000</td>\n",
       "      <td>0.000000</td>\n",
       "      <td>1.000000</td>\n",
       "      <td>1.000000</td>\n",
       "    </tr>\n",
       "    <tr>\n",
       "      <th>25%</th>\n",
       "      <td>10.000000</td>\n",
       "      <td>17.750000</td>\n",
       "      <td>1.000000</td>\n",
       "      <td>0.000000</td>\n",
       "      <td>3.000000</td>\n",
       "      <td>1.000000</td>\n",
       "    </tr>\n",
       "    <tr>\n",
       "      <th>50%</th>\n",
       "      <td>32.500000</td>\n",
       "      <td>42.500000</td>\n",
       "      <td>3.000000</td>\n",
       "      <td>0.000000</td>\n",
       "      <td>3.000000</td>\n",
       "      <td>2.000000</td>\n",
       "    </tr>\n",
       "    <tr>\n",
       "      <th>75%</th>\n",
       "      <td>80.250000</td>\n",
       "      <td>82.250000</td>\n",
       "      <td>7.000000</td>\n",
       "      <td>1.000000</td>\n",
       "      <td>4.000000</td>\n",
       "      <td>2.000000</td>\n",
       "    </tr>\n",
       "    <tr>\n",
       "      <th>max</th>\n",
       "      <td>154.000000</td>\n",
       "      <td>140.000000</td>\n",
       "      <td>18.000000</td>\n",
       "      <td>7.000000</td>\n",
       "      <td>7.000000</td>\n",
       "      <td>2.000000</td>\n",
       "    </tr>\n",
       "  </tbody>\n",
       "</table>\n",
       "</div>"
      ],
      "text/plain": [
       "             Runs          BF          4s          6s         Pos        Inns\n",
       "count  132.000000  132.000000  132.000000  132.000000  132.000000  132.000000\n",
       "mean    46.848485   50.871212    4.371212    0.545455    3.303030    1.575758\n",
       "std     41.994635   38.729716    4.404032    1.086795    0.873174    0.496110\n",
       "min      0.000000    0.000000    0.000000    0.000000    1.000000    1.000000\n",
       "25%     10.000000   17.750000    1.000000    0.000000    3.000000    1.000000\n",
       "50%     32.500000   42.500000    3.000000    0.000000    3.000000    2.000000\n",
       "75%     80.250000   82.250000    7.000000    1.000000    4.000000    2.000000\n",
       "max    154.000000  140.000000   18.000000    7.000000    7.000000    2.000000"
      ]
     },
     "execution_count": 65,
     "metadata": {},
     "output_type": "execute_result"
    }
   ],
   "source": [
    "## Your code here\n",
    "\n",
    "df[\"Runs\"]=df.Runs.apply(lambda x: int(x.replace('*','')))\n",
    "df.describe()\n"
   ]
  },
  {
   "cell_type": "code",
   "execution_count": 38,
   "metadata": {},
   "outputs": [
    {
     "data": {
      "text/plain": [
       "22.5"
      ]
     },
     "execution_count": 38,
     "metadata": {},
     "output_type": "execute_result"
    }
   ],
   "source": [
    "np.percentile(df.Runs,50)-np.percentile(df.Runs,25)"
   ]
  },
  {
   "cell_type": "code",
   "execution_count": 47,
   "metadata": {},
   "outputs": [
    {
     "data": {
      "text/plain": [
       "array([ 12,  37,  25,  54,  31,   2,  30,  10,  27, 107,  91, 102,  57,\n",
       "         0,  18,  28, 118, 105,  64,  63,  22,  87, 100,  34,   1,  59,\n",
       "        24,   9,  35,  81,  94,   7, 112,  86,   3, 117,  20,  23,  80,\n",
       "        21,  66, 106,  38, 128,   6,  15,  77,  26,  43,  11, 115,  14,\n",
       "        68,  61,  99,  19, 123,  78,  82, 136,  40,  13,  62, 127,  49,\n",
       "        53, 139, 138,   8,  85, 154,  45,  65, 122,  55], dtype=int64)"
      ]
     },
     "execution_count": 47,
     "metadata": {},
     "output_type": "execute_result"
    }
   ],
   "source": [
    "df.Runs.unique()"
   ]
  },
  {
   "cell_type": "markdown",
   "metadata": {},
   "source": [
    "#### Box Plots\n",
    "\n",
    "Question 2: Plot a Box Plot to analyse the spread of Runs that Virat has scored. The upper fence in the box plot lies in which interval?\n",
    "\n",
    "    a)100-120\n",
    "    b)120-140\n",
    "    c)140-160\n",
    "    d)160-180\n"
   ]
  },
  {
   "cell_type": "code",
   "execution_count": 48,
   "metadata": {},
   "outputs": [
    {
     "data": {
      "image/png": "[encoded data removed]",
      "text/plain": [
       "<Figure size 432x288 with 1 Axes>"
      ]
     },
     "metadata": {
      "needs_background": "light"
     },
     "output_type": "display_data"
    }
   ],
   "source": [
    "#Your code here\n",
    "plt.boxplot([df.Runs])\n",
    "plt.show()"
   ]
  },
  {
   "cell_type": "markdown",
   "metadata": {},
   "source": [
    "#### False Statement\n",
    "\n",
    "Q3:Consider the following statements and choose the correct option\n",
    "\n",
    "     I - Virat has played the maximum number of matches in 2011\n",
    "     II - Virat has the highest run average in the year 2017\n",
    "     III - Virat has the maximum score in a single match and the highest run average in the year 2016.\n",
    "\n",
    "Which of the above statements is/are false?\n",
    "\n",
    "    a)I and II\n",
    "    b)I and III\n",
    "    c)II\n",
    "    d)III\n",
    "\n"
   ]
  },
  {
   "cell_type": "code",
   "execution_count": 60,
   "metadata": {
    "scrolled": true
   },
   "outputs": [
    {
     "data": {
      "text/plain": [
       "array(['18-Aug-08', '20-Aug-08', '24-Aug-08', '27-Aug-08', '29-Aug-08',\n",
       "       '14-Sep-09', '25-Oct-09', '2-Nov-09', '15-Dec-09', '18-Dec-09',\n",
       "       '24-Dec-09', '7-Jan-10', '11-Jan-10', '21-Feb-10', '27-Feb-10',\n",
       "       '28-May-10', '3-Jun-10', '22-Jun-10', '24-Jun-10', '16-Aug-10',\n",
       "       '28-Aug-10', '20-Oct-10', '28-Nov-10', '1-Dec-10', '4-Dec-10',\n",
       "       '7-Dec-10', '10-Dec-10', '12-Jan-11', '15-Jan-11', '18-Jan-11',\n",
       "       '21-Jan-11', '23-Jan-11', '19-Feb-11', '6-Mar-11', '9-Mar-11',\n",
       "       '12-Mar-11', '20-Mar-11', '24-Mar-11', '30-Mar-11', '2-Apr-11',\n",
       "       '6-Jun-11', '8-Jun-11', '11-Jun-11', '13-Jun-11', '16-Jun-11',\n",
       "       '6-Sep-11', '9-Sep-11', '16-Sep-11', '14-Oct-11', '17-Oct-11',\n",
       "       '20-Oct-11', '23-Oct-11', '25-Oct-11', '29-Nov-11', '2-Dec-11',\n",
       "       '5-Dec-11', '8-Dec-11', '11-Dec-11', '5-Feb-12', '12-Feb-12',\n",
       "       '19-Feb-12', '26-Feb-12', '16-Mar-12', '21-Jul-12', '24-Jul-12',\n",
       "       '28-Jul-12', '31-Jul-12', '4-Aug-12', '30-Dec-12', '3-Jan-13',\n",
       "       '6-Jan-13', '11-Jan-13', '15-Jan-13', '19-Jan-13', '23-Jan-13',\n",
       "       '27-Jan-13', '23-Jun-13', '30-Jun-13', '5-Jul-13', '24-Jul-13',\n",
       "       '26-Jul-13', '28-Jul-13', '13-Oct-13', '16-Oct-13', '19-Oct-13',\n",
       "       '30-Oct-13', '2-Nov-13', '21-Nov-13', '24-Nov-13', '27-Nov-13',\n",
       "       '5-Dec-13', '8-Dec-13', '19-Jan-14', '22-Jan-14', '28-Jan-14',\n",
       "       '31-Jan-14', '26-Feb-14', '27-Aug-14', '30-Aug-14', '2-Sep-14',\n",
       "       '5-Sep-14', '8-Oct-14', '11-Oct-14', '17-Oct-14', '2-Nov-14',\n",
       "       '6-Nov-14', '9-Nov-14', '13-Nov-14', '16-Nov-14', '18-Jan-15',\n",
       "       '26-Mar-15', '18-Jun-15', '21-Jun-15', '24-Jun-15', '11-Oct-15',\n",
       "       '14-Oct-15', '18-Oct-15', '22-Oct-15', '25-Oct-15', '12-Jan-16',\n",
       "       '15-Jan-16', '17-Jan-16', '20-Jan-16', '23-Jan-16', '16-Oct-16',\n",
       "       '20-Oct-16', '23-Oct-16', '26-Oct-16', '29-Oct-16', '15-Jan-17',\n",
       "       '19-Jan-17', '22-Jan-17'], dtype=object)"
      ]
     },
     "execution_count": 60,
     "metadata": {},
     "output_type": "execute_result"
    }
   ],
   "source": [
    "df['Start Date'].unique()"
   ]
  },
  {
   "cell_type": "code",
   "execution_count": 67,
   "metadata": {},
   "outputs": [
    {
     "data": {
      "text/plain": [
       "11    31\n",
       "13    23\n",
       "14    17\n",
       "10    16\n",
       "12    11\n",
       "15    10\n",
       "16    10\n",
       "9      6\n",
       "8      5\n",
       "17     3\n",
       "Name: year, dtype: int64"
      ]
     },
     "execution_count": 67,
     "metadata": {},
     "output_type": "execute_result"
    }
   ],
   "source": [
    "## Your code here\n",
    "df[\"year\"]=df['Start Date'].apply(lambda x : int(x[-2:]))\n",
    "df.year.unique()\n",
    "df"
   ]
  },
  {
   "cell_type": "code",
   "execution_count": 69,
   "metadata": {},
   "outputs": [
    {
     "data": {
      "text/html": [
       "<div>\n",
       "<style scoped>\n",
       "    .dataframe tbody tr th:only-of-type {\n",
       "        vertical-align: middle;\n",
       "    }\n",
       "\n",
       "    .dataframe tbody tr th {\n",
       "        vertical-align: top;\n",
       "    }\n",
       "\n",
       "    .dataframe thead th {\n",
       "        text-align: right;\n",
       "    }\n",
       "</style>\n",
       "<table border=\"1\" class=\"dataframe\">\n",
       "  <thead>\n",
       "    <tr style=\"text-align: right;\">\n",
       "      <th>year</th>\n",
       "      <th>8</th>\n",
       "      <th>9</th>\n",
       "      <th>10</th>\n",
       "      <th>11</th>\n",
       "      <th>12</th>\n",
       "      <th>13</th>\n",
       "      <th>14</th>\n",
       "      <th>15</th>\n",
       "      <th>16</th>\n",
       "      <th>17</th>\n",
       "    </tr>\n",
       "  </thead>\n",
       "  <tbody>\n",
       "    <tr>\n",
       "      <th>Runs</th>\n",
       "      <td>31.8</td>\n",
       "      <td>38.333333</td>\n",
       "      <td>45.375</td>\n",
       "      <td>42.0</td>\n",
       "      <td>40.363636</td>\n",
       "      <td>47.826087</td>\n",
       "      <td>58.529412</td>\n",
       "      <td>30.4</td>\n",
       "      <td>73.9</td>\n",
       "      <td>61.666667</td>\n",
       "    </tr>\n",
       "  </tbody>\n",
       "</table>\n",
       "</div>"
      ],
      "text/plain": [
       "year    8          9       10    11         12         13         14    15  \\\n",
       "Runs  31.8  38.333333  45.375  42.0  40.363636  47.826087  58.529412  30.4   \n",
       "\n",
       "year    16         17  \n",
       "Runs  73.9  61.666667  "
      ]
     },
     "execution_count": 69,
     "metadata": {},
     "output_type": "execute_result"
    }
   ],
   "source": [
    "pd.pivot_table(df, values='Runs',columns=['year'], aggfunc=np.mean)"
   ]
  },
  {
   "cell_type": "code",
   "execution_count": 71,
   "metadata": {},
   "outputs": [
    {
     "data": {
      "text/html": [
       "<div>\n",
       "<style scoped>\n",
       "    .dataframe tbody tr th:only-of-type {\n",
       "        vertical-align: middle;\n",
       "    }\n",
       "\n",
       "    .dataframe tbody tr th {\n",
       "        vertical-align: top;\n",
       "    }\n",
       "\n",
       "    .dataframe thead th {\n",
       "        text-align: right;\n",
       "    }\n",
       "</style>\n",
       "<table border=\"1\" class=\"dataframe\">\n",
       "  <thead>\n",
       "    <tr style=\"text-align: right;\">\n",
       "      <th>year</th>\n",
       "      <th>8</th>\n",
       "      <th>9</th>\n",
       "      <th>10</th>\n",
       "      <th>11</th>\n",
       "      <th>12</th>\n",
       "      <th>13</th>\n",
       "      <th>14</th>\n",
       "      <th>15</th>\n",
       "      <th>16</th>\n",
       "      <th>17</th>\n",
       "    </tr>\n",
       "  </thead>\n",
       "  <tbody>\n",
       "    <tr>\n",
       "      <th>Runs</th>\n",
       "      <td>54</td>\n",
       "      <td>107</td>\n",
       "      <td>118</td>\n",
       "      <td>117</td>\n",
       "      <td>128</td>\n",
       "      <td>115</td>\n",
       "      <td>139</td>\n",
       "      <td>138</td>\n",
       "      <td>154</td>\n",
       "      <td>122</td>\n",
       "    </tr>\n",
       "  </tbody>\n",
       "</table>\n",
       "</div>"
      ],
      "text/plain": [
       "year  8    9    10   11   12   13   14   15   16   17\n",
       "Runs  54  107  118  117  128  115  139  138  154  122"
      ]
     },
     "execution_count": 71,
     "metadata": {},
     "output_type": "execute_result"
    }
   ],
   "source": [
    "pd.pivot_table(df, values='Runs',columns=['year'], aggfunc=np.max)"
   ]
  },
  {
   "cell_type": "code",
   "execution_count": null,
   "metadata": {},
   "outputs": [],
   "source": []
  },
  {
   "cell_type": "markdown",
   "metadata": {},
   "source": [
    "#### Maximum Frequency\n",
    "\n",
    "Q4:Plot a histogram for the Mins column with 15 bins. Among the three ranges mentioned below, which one has the highest frequency?\n",
    "\n",
    "A - [54.6,68)\n",
    "\n",
    "B - [68,81.4)\n",
    "\n",
    "C - [121.6,135)\n",
    "\n",
    "    a)A - [54.6,68)\n",
    "    b)B - [68,81.4)\n",
    "    c)C - [121.6,135)\n",
    "    d)All the bin ranges have the same frequency\n"
   ]
  },
  {
   "cell_type": "code",
   "execution_count": 80,
   "metadata": {},
   "outputs": [],
   "source": [
    "df[\"Mins\"]=df[\"Mins\"].apply(lambda x: int(x.replace('-','0')))"
   ]
  },
  {
   "cell_type": "code",
   "execution_count": 81,
   "metadata": {},
   "outputs": [
    {
     "data": {
      "text/plain": [
       "<AxesSubplot:ylabel='Frequency'>"
      ]
     },
     "execution_count": 81,
     "metadata": {},
     "output_type": "execute_result"
    },
    {
     "data": {
      "image/png": "[encoded data removed]",
      "text/plain": [
       "<Figure size 432x288 with 1 Axes>"
      ]
     },
     "metadata": {
      "needs_background": "light"
     },
     "output_type": "display_data"
    }
   ],
   "source": [
    "#Your code here\n",
    "df[\"Mins\"].plot.hist(bins=1,range=[54.6,68])\n",
    "df[\"Mins\"].plot.hist(bins=1,range=[68,81.4])\n",
    "df[\"Mins\"].plot.hist(bins=1,range=[121.6,135])"
   ]
  },
  {
   "cell_type": "code",
   "execution_count": 82,
   "metadata": {},
   "outputs": [
    {
     "data": {
      "text/plain": [
       "(array([33., 14., 10., 11.,  6.,  5., 10.,  4.,  9., 11.,  4.,  6.,  3.,\n",
       "         2.,  4.]),\n",
       " array([  0.        ,  13.46666667,  26.93333333,  40.4       ,\n",
       "         53.86666667,  67.33333333,  80.8       ,  94.26666667,\n",
       "        107.73333333, 121.2       , 134.66666667, 148.13333333,\n",
       "        161.6       , 175.06666667, 188.53333333, 202.        ]),\n",
       " <BarContainer object of 15 artists>)"
      ]
     },
     "execution_count": 82,
     "metadata": {},
     "output_type": "execute_result"
    },
    {
     "data": {
      "image/png": "[encoded data removed]",
      "text/plain": [
       "<Figure size 432x288 with 1 Axes>"
      ]
     },
     "metadata": {
      "needs_background": "light"
     },
     "output_type": "display_data"
    }
   ],
   "source": [
    "plt.hist(df.Mins,bins=15)\n"
   ]
  }
 ],
 "metadata": {
  "kernelspec": {
   "display_name": "Python 3 (ipykernel)",
   "language": "python",
   "name": "python3"
  },
  "language_info": {
   "codemirror_mode": {
    "name": "ipython",
    "version": 3
   },
   "file_extension": ".py",
   "mimetype": "text/x-python",
   "name": "python",
   "nbconvert_exporter": "python",
   "pygments_lexer": "ipython3",
   "version": "3.9.7"
  }
 },
 "nbformat": 4,
 "nbformat_minor": 2
}
