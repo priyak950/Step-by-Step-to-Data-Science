{
  "nbformat": 4,
  "nbformat_minor": 0,
  "metadata": {
    "colab": {
      "name": "SQLite.ipynb",
      "provenance": [],
      "authorship_tag": "ABX9TyMtSYBM3ixoeAeY0zyaoPbz",
      "include_colab_link": true
    },
    "kernelspec": {
      "name": "python3",
      "display_name": "Python 3"
    },
    "language_info": {
      "name": "python"
    }
  },
  "cells": [
    {
      "cell_type": "markdown",
      "metadata": {
        "id": "view-in-github",
        "colab_type": "text"
      },
      "source": [
        "<a href=\"https://colab.research.google.com/github/priyak950/Step-by-Step-to-Data-Science/blob/main/SQL/SQLite.ipynb\" target=\"_parent\"><img src=\"https://colab.research.google.com/assets/colab-badge.svg\" alt=\"Open In Colab\"/></a>"
      ]
    },
    {
      "cell_type": "code",
      "execution_count": 1,
      "metadata": {
        "id": "qoCRJnVEKr-b"
      },
      "outputs": [],
      "source": [
        "import sqlite3"
      ]
    },
    {
      "cell_type": "markdown",
      "source": [
        "##connection"
      ],
      "metadata": {
        "id": "jnG4VpJ2LC35"
      }
    },
    {
      "cell_type": "code",
      "source": [
        "conn = sqlite3.connect('example2.db');"
      ],
      "metadata": {
        "id": "apR3llFTLB76"
      },
      "execution_count": 19,
      "outputs": []
    },
    {
      "cell_type": "markdown",
      "source": [
        "###table"
      ],
      "metadata": {
        "id": "4CzHWdopLVll"
      }
    },
    {
      "cell_type": "code",
      "source": [
        "#create curse\n",
        "\n",
        "cur = conn.cursor()\n",
        "\n",
        "#create table\n",
        "\n",
        "cur.execute(\"CREATE TABLE customer(name TEXT,last_name TEXT)\")"
      ],
      "metadata": {
        "colab": {
          "base_uri": "https://localhost:8080/",
          "height": 201
        },
        "id": "Wab_uWi8LXHm",
        "outputId": "62f29fb3-9109-4409-a5c5-dedcb123b549"
      },
      "execution_count": 20,
      "outputs": [
        {
          "output_type": "error",
          "ename": "OperationalError",
          "evalue": "ignored",
          "traceback": [
            "\u001b[0;31m---------------------------------------------------------------------------\u001b[0m",
            "\u001b[0;31mOperationalError\u001b[0m                          Traceback (most recent call last)",
            "\u001b[0;32m<ipython-input-20-a71c808cdc38>\u001b[0m in \u001b[0;36m<module>\u001b[0;34m()\u001b[0m\n\u001b[1;32m      5\u001b[0m \u001b[0;31m#create table\u001b[0m\u001b[0;34m\u001b[0m\u001b[0;34m\u001b[0m\u001b[0;34m\u001b[0m\u001b[0m\n\u001b[1;32m      6\u001b[0m \u001b[0;34m\u001b[0m\u001b[0m\n\u001b[0;32m----> 7\u001b[0;31m \u001b[0mcur\u001b[0m\u001b[0;34m.\u001b[0m\u001b[0mexecute\u001b[0m\u001b[0;34m(\u001b[0m\u001b[0;34m\"CREATE TABLE customer(name TEXT,last_name TEXT)\"\u001b[0m\u001b[0;34m)\u001b[0m\u001b[0;34m\u001b[0m\u001b[0;34m\u001b[0m\u001b[0m\n\u001b[0m",
            "\u001b[0;31mOperationalError\u001b[0m: table customer already exists"
          ]
        }
      ]
    },
    {
      "cell_type": "markdown",
      "source": [
        "##insert"
      ],
      "metadata": {
        "id": "IzuTfkf8MIpk"
      }
    },
    {
      "cell_type": "code",
      "source": [
        "cur.execute(\"INSERT INTO customer values('priya','last')\")"
      ],
      "metadata": {
        "colab": {
          "base_uri": "https://localhost:8080/"
        },
        "id": "G2gtumJLMKUO",
        "outputId": "83a6ffd9-96b7-4b47-fb6c-0a29e48c78f8"
      },
      "execution_count": 9,
      "outputs": [
        {
          "output_type": "execute_result",
          "data": {
            "text/plain": [
              "<sqlite3.Cursor at 0x7f38e1343030>"
            ]
          },
          "metadata": {},
          "execution_count": 9
        }
      ]
    },
    {
      "cell_type": "markdown",
      "source": [
        "##save"
      ],
      "metadata": {
        "id": "UijvSklkju8k"
      }
    },
    {
      "cell_type": "code",
      "source": [
        "conn.commit()"
      ],
      "metadata": {
        "id": "J8gLwSRmj3X6"
      },
      "execution_count": 16,
      "outputs": []
    },
    {
      "cell_type": "markdown",
      "source": [
        "##fetch"
      ],
      "metadata": {
        "id": "kS391kP7lnc8"
      }
    },
    {
      "cell_type": "code",
      "source": [
        "cur.execute(\"SELECT * from customer\")\n",
        "cur.fetchone()"
      ],
      "metadata": {
        "colab": {
          "base_uri": "https://localhost:8080/"
        },
        "id": "eVD7SgbClq8J",
        "outputId": "7883b771-3f07-4d82-feaa-5e1e8e9da286"
      },
      "execution_count": 11,
      "outputs": [
        {
          "output_type": "execute_result",
          "data": {
            "text/plain": [
              "('priya', 'last')"
            ]
          },
          "metadata": {},
          "execution_count": 11
        }
      ]
    },
    {
      "cell_type": "markdown",
      "source": [
        "##using for loop"
      ],
      "metadata": {
        "id": "gUfch6xsl9Xf"
      }
    },
    {
      "cell_type": "code",
      "source": [
        "for row in cur.execute(\"SELECT * from customer\"):\n",
        "  print(row)"
      ],
      "metadata": {
        "colab": {
          "base_uri": "https://localhost:8080/"
        },
        "id": "pKfQBiNUmDGI",
        "outputId": "7769207d-3a30-497b-91c7-d0ec3c0ca69b"
      },
      "execution_count": 12,
      "outputs": [
        {
          "output_type": "stream",
          "name": "stdout",
          "text": [
            "('priya', 'last')\n"
          ]
        }
      ]
    },
    {
      "cell_type": "markdown",
      "source": [
        "##ADD servel ROW"
      ],
      "metadata": {
        "id": "zITcgsmNmThD"
      }
    },
    {
      "cell_type": "code",
      "source": [
        "customer_list = [\n",
        "                 ('riya','keshav'),\n",
        "                 ('Sandeep','mashwari')\n",
        "]"
      ],
      "metadata": {
        "id": "kLa0qrdkmWT6"
      },
      "execution_count": 13,
      "outputs": []
    },
    {
      "cell_type": "code",
      "source": [
        "cur.executemany(\"INSERT INTO customer values(?,?)\",customer_list)"
      ],
      "metadata": {
        "colab": {
          "base_uri": "https://localhost:8080/"
        },
        "id": "hPWULqmimoOh",
        "outputId": "719c71a9-f79d-4c21-ce13-d914c74aeb5a"
      },
      "execution_count": 14,
      "outputs": [
        {
          "output_type": "execute_result",
          "data": {
            "text/plain": [
              "<sqlite3.Cursor at 0x7f38e1343030>"
            ]
          },
          "metadata": {},
          "execution_count": 14
        }
      ]
    },
    {
      "cell_type": "code",
      "source": [
        "for row in cur.execute(\"SELECT * from customer\"):\n",
        "  print(row)"
      ],
      "metadata": {
        "colab": {
          "base_uri": "https://localhost:8080/"
        },
        "id": "CDq7fk_anVOh",
        "outputId": "2053962e-1e8a-46bb-e2d4-5a4166b8acdd"
      },
      "execution_count": 15,
      "outputs": [
        {
          "output_type": "stream",
          "name": "stdout",
          "text": [
            "('priya', 'last')\n",
            "('riya', 'keshav')\n",
            "('Sandeep', 'mashwari')\n"
          ]
        }
      ]
    },
    {
      "cell_type": "code",
      "source": [
        "conn.commit()"
      ],
      "metadata": {
        "id": "pJnskIbantiC"
      },
      "execution_count": 17,
      "outputs": []
    },
    {
      "cell_type": "code",
      "source": [
        "conn.close"
      ],
      "metadata": {
        "colab": {
          "base_uri": "https://localhost:8080/"
        },
        "id": "7-KGnjg7nv7W",
        "outputId": "d29afcff-3ba7-4734-884e-11aaa5212410"
      },
      "execution_count": 18,
      "outputs": [
        {
          "output_type": "execute_result",
          "data": {
            "text/plain": [
              "<function Connection.close>"
            ]
          },
          "metadata": {},
          "execution_count": 18
        }
      ]
    },
    {
      "cell_type": "markdown",
      "source": [
        "#Run queries"
      ],
      "metadata": {
        "id": "9n9rJVk5n0Cl"
      }
    },
    {
      "cell_type": "code",
      "source": [
        "cur.execute('SELECT * from customer')\n",
        "cur.fetchall()"
      ],
      "metadata": {
        "colab": {
          "base_uri": "https://localhost:8080/"
        },
        "id": "2cxlEnYEn3N9",
        "outputId": "fc8b1f3e-ddba-452a-e236-a686d4c7c74e"
      },
      "execution_count": 22,
      "outputs": [
        {
          "output_type": "execute_result",
          "data": {
            "text/plain": [
              "[('priya', 'last'), ('riya', 'keshav'), ('Sandeep', 'mashwari')]"
            ]
          },
          "metadata": {},
          "execution_count": 22
        }
      ]
    }
  ]
}