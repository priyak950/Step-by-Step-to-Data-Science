{
 "cells": [
  {
   "cell_type": "markdown",
   "id": "e1334cfd",
   "metadata": {},
   "source": [
    "Index of 50th element\n",
    "Consider an (8, 8) shape NumPy array. What is the index (x,y) of the 50th element?\n",
    "\n",
    "Note: For counting the elements go row-wise. For example, in the array,\n",
    "\n",
    "[[1, 5, 9],\n",
    "\n",
    " [3, 0, 2]]\n",
    "\n",
    "the 5th element would be '0'."
   ]
  },
  {
   "cell_type": "code",
   "execution_count": 1,
   "id": "c47228d9",
   "metadata": {},
   "outputs": [],
   "source": [
    "import numpy as np"
   ]
  },
  {
   "cell_type": "code",
   "execution_count": 8,
   "id": "ba32d924",
   "metadata": {},
   "outputs": [],
   "source": [
    "a = np.arange(64,dtype='int')\n",
    "a=a.reshape(8,8)"
   ]
  },
  {
   "cell_type": "code",
   "execution_count": 10,
   "id": "88a4c145",
   "metadata": {},
   "outputs": [
    {
     "data": {
      "text/plain": [
       "array([[ 0,  1,  2,  3,  4,  5,  6,  7],\n",
       "       [ 8,  9, 10, 11, 12, 13, 14, 15],\n",
       "       [16, 17, 18, 19, 20, 21, 22, 23],\n",
       "       [24, 25, 26, 27, 28, 29, 30, 31],\n",
       "       [32, 33, 34, 35, 36, 37, 38, 39],\n",
       "       [40, 41, 42, 43, 44, 45, 46, 47],\n",
       "       [48, 49, 50, 51, 52, 53, 54, 55],\n",
       "       [56, 57, 58, 59, 60, 61, 62, 63]])"
      ]
     },
     "execution_count": 10,
     "metadata": {},
     "output_type": "execute_result"
    }
   ],
   "source": [
    "a"
   ]
  },
  {
   "cell_type": "code",
   "execution_count": 17,
   "id": "ffdb0425",
   "metadata": {},
   "outputs": [
    {
     "data": {
      "text/plain": [
       "(array([6], dtype=int64), array([1], dtype=int64))"
      ]
     },
     "execution_count": 17,
     "metadata": {},
     "output_type": "execute_result"
    }
   ],
   "source": [
    "np.where(a==49)"
   ]
  },
  {
   "cell_type": "code",
   "execution_count": 16,
   "id": "67c5e583",
   "metadata": {},
   "outputs": [
    {
     "data": {
      "text/plain": [
       "(6, 1)"
      ]
     },
     "execution_count": 16,
     "metadata": {},
     "output_type": "execute_result"
    }
   ],
   "source": [
    "np.unravel_index(49, (8,8))"
   ]
  },
  {
   "cell_type": "markdown",
   "id": "720193de",
   "metadata": {},
   "source": [
    "Which of the following would extract all the first 3 rows of the last 5 columns in a given numpy 2D array ‘a’?"
   ]
  },
  {
   "cell_type": "code",
   "execution_count": null,
   "id": "8e73bbc9",
   "metadata": {},
   "outputs": [],
   "source": [
    "a[ :3 , -5: ]"
   ]
  },
  {
   "cell_type": "markdown",
   "id": "31a70480",
   "metadata": {},
   "source": [
    "So Many Functions\n",
    "What will the output of np.arange(1,16,2).reshape(4, 2) be?"
   ]
  },
  {
   "cell_type": "code",
   "execution_count": 18,
   "id": "c46836e0",
   "metadata": {},
   "outputs": [
    {
     "data": {
      "text/plain": [
       "array([[ 1,  3],\n",
       "       [ 5,  7],\n",
       "       [ 9, 11],\n",
       "       [13, 15]])"
      ]
     },
     "execution_count": 18,
     "metadata": {},
     "output_type": "execute_result"
    }
   ],
   "source": [
    "np.arange(1,16,2).reshape(4, 2)"
   ]
  },
  {
   "cell_type": "markdown",
   "id": "126a0586",
   "metadata": {},
   "source": [
    "Given a single positive odd integer 'n' greater than 2, create a NumPy array of size (n x n) with all zeros and ones such that the ones make a shape like '+'. The lines of the plus must be present at the middle row and column."
   ]
  },
  {
   "cell_type": "code",
   "execution_count": 20,
   "id": "ec16a298",
   "metadata": {},
   "outputs": [
    {
     "name": "stdout",
     "output_type": "stream",
     "text": [
      "[[0 0 1 0 0]\n",
      " [0 0 1 0 0]\n",
      " [1 1 1 1 1]\n",
      " [0 0 1 0 0]\n",
      " [0 0 1 0 0]]\n"
     ]
    }
   ],
   "source": [
    "n=5\n",
    "x=np.zeros((n,n),dtype=int)\n",
    "t=n//2\n",
    "x[t,:]=1\n",
    "x[:,t]=1\n",
    "print(x)"
   ]
  },
  {
   "cell_type": "markdown",
   "id": "655ddfc3",
   "metadata": {},
   "source": [
    "Which of the following would extract all the rows of the first 3 columns in a given numpy 2D array ‘a’?"
   ]
  },
  {
   "cell_type": "code",
   "execution_count": null,
   "id": "0e027cc4",
   "metadata": {},
   "outputs": [],
   "source": [
    "a[:, :3]"
   ]
  },
  {
   "cell_type": "code",
   "execution_count": 23,
   "id": "f1234416",
   "metadata": {},
   "outputs": [
    {
     "data": {
      "text/plain": [
       "array([[1, 0, 0, 1]])"
      ]
     },
     "execution_count": 23,
     "metadata": {},
     "output_type": "execute_result"
    }
   ],
   "source": [
    "np.eye(2, dtype = int).reshape(4, 1).T"
   ]
  },
  {
   "cell_type": "code",
   "execution_count": 24,
   "id": "054bcf48",
   "metadata": {},
   "outputs": [
    {
     "data": {
      "text/plain": [
       "array([ 1,  2,  3,  4,  5,  6,  7,  8,  9, 10])"
      ]
     },
     "execution_count": 24,
     "metadata": {},
     "output_type": "execute_result"
    }
   ],
   "source": [
    "import numpy as np\n",
    "a = np.arange(10)\n",
    "f = np.vectorize(lambda x: x+1)\n",
    "f(a)\n"
   ]
  },
  {
   "cell_type": "code",
   "execution_count": 25,
   "id": "3daf945d",
   "metadata": {},
   "outputs": [
    {
     "data": {
      "text/plain": [
       "array([[ True,  True],\n",
       "       [ True,  True]])"
      ]
     },
     "execution_count": 25,
     "metadata": {},
     "output_type": "execute_result"
    }
   ],
   "source": [
    "np.full((2,2), 1) == np.ones((2,2))"
   ]
  },
  {
   "cell_type": "code",
   "execution_count": 26,
   "id": "f5717355",
   "metadata": {},
   "outputs": [
    {
     "name": "stdout",
     "output_type": "stream",
     "text": [
      "8.5\n"
     ]
    }
   ],
   "source": [
    "import numpy as np\n",
    "a = np.array( [7, 10, 2, 4, 13, 16])\n",
    "med = np.percentile(a, 50)\n",
    "print(med)"
   ]
  }
 ],
 "metadata": {
  "kernelspec": {
   "display_name": "Python 3 (ipykernel)",
   "language": "python",
   "name": "python3"
  },
  "language_info": {
   "codemirror_mode": {
    "name": "ipython",
    "version": 3
   },
   "file_extension": ".py",
   "mimetype": "text/x-python",
   "name": "python",
   "nbconvert_exporter": "python",
   "pygments_lexer": "ipython3",
   "version": "3.9.7"
  }
 },
 "nbformat": 4,
 "nbformat_minor": 5
}
