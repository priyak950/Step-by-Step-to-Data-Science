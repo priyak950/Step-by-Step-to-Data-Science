{
 "cells": [
  {
   "cell_type": "markdown",
   "id": "f93d770f",
   "metadata": {},
   "source": [
    "# Scaling\n",
    "\n",
    "**Note:** You will need to search many new functions in NumPy documentation for many of these tasks. These are the kind of open-ended questions that a data scientist needs to tackle. This exercise will be a good learning experience. \n",
    "\n",
    "## 1. Creating a dataset\n",
    "\n",
    "Let's create a hypothetical dataset with data about athletes, their physical attributes, and their sports records. \n",
    "\n",
    "### 1.1 \n",
    "Create an array to identify each athlete uniquely. The array should have all unique five-digit integers. The shape of the array must be one thousand elements rows. (1000)"
   ]
  },
  {
   "cell_type": "code",
   "execution_count": 80,
   "id": "2f409468",
   "metadata": {},
   "outputs": [],
   "source": [
    "# importing necessary libraries \n",
    "import numpy as np\n",
    "# Seting a seed so that the random command generates similar numbers for everyone.  \n",
    "np.random.seed(0) \n",
    "# Suppressing the scientific notation so you can read numbers in the output. \n",
    "np.set_printoptions(suppress=True)"
   ]
  },
  {
   "cell_type": "code",
   "execution_count": null,
   "id": "e80cf23b",
   "metadata": {},
   "outputs": [],
   "source": []
  },
  {
   "cell_type": "code",
   "execution_count": null,
   "id": "f5d7a526",
   "metadata": {},
   "outputs": [],
   "source": []
  },
  {
   "cell_type": "code",
   "execution_count": null,
   "id": "1ac456e3",
   "metadata": {},
   "outputs": [],
   "source": []
  },
  {
   "cell_type": "code",
   "execution_count": null,
   "id": "72e64954",
   "metadata": {},
   "outputs": [],
   "source": []
  },
  {
   "cell_type": "markdown",
   "id": "5378720b",
   "metadata": {},
   "source": [
    "### 1.2 \n",
    "Check if all the entries in the \"athlete_id\" column are unique.\n",
    "\n",
    "**Hint:** Find the number of unique entries in the athlete_id array and compare that to the total number of elements in the array. "
   ]
  },
  {
   "cell_type": "code",
   "execution_count": null,
   "id": "eb94447d",
   "metadata": {},
   "outputs": [],
   "source": []
  },
  {
   "cell_type": "markdown",
   "id": "1c6cd7d9",
   "metadata": {},
   "source": [
    "Seven values repeat twice. You will have to remove duplicates and add three unique numbers. "
   ]
  },
  {
   "cell_type": "markdown",
   "id": "4e6824fe",
   "metadata": {},
   "source": [
    "### 1.3 \n",
    "Find the duplicate values and remove them. "
   ]
  },
  {
   "cell_type": "code",
   "execution_count": null,
   "id": "5b03504c",
   "metadata": {},
   "outputs": [],
   "source": []
  },
  {
   "cell_type": "code",
   "execution_count": null,
   "id": "332c5061",
   "metadata": {},
   "outputs": [],
   "source": []
  },
  {
   "cell_type": "code",
   "execution_count": null,
   "id": "d7686e7f",
   "metadata": {},
   "outputs": [],
   "source": []
  },
  {
   "cell_type": "code",
   "execution_count": null,
   "id": "5ceba72f",
   "metadata": {},
   "outputs": [],
   "source": []
  },
  {
   "cell_type": "code",
   "execution_count": null,
   "id": "de912a26",
   "metadata": {},
   "outputs": [],
   "source": []
  },
  {
   "cell_type": "markdown",
   "id": "6aee27fc",
   "metadata": {},
   "source": [
    "Now we have an array of 1000 unique numbers in a column format. \n",
    "\n",
    "So in the dataset, we have the first column set."
   ]
  },
  {
   "cell_type": "markdown",
   "id": "1d621693",
   "metadata": {},
   "source": [
    "### 1.4 \n",
    "Create a column for the height of the athletes. \n",
    "\n",
    "The height column must follow a few rules. \n",
    "\n",
    "1. Height of an athlete is a natural variable. So it would be best if you used normal distribution to create the height data. \n",
    "2. You also need to fix the maximum and minimum heights.\n",
    "3. Height need not be unique. \n",
    "4. Height needs to be in whole centimeters (integers)"
   ]
  },
  {
   "cell_type": "markdown",
   "id": "d220b0ce",
   "metadata": {},
   "source": [
    "Assumptions - \n",
    "1. Shortest person's height - 160 cm \n",
    "2. Tallest person's height - 240 cm\n",
    "3. Average person's height - 200 cm"
   ]
  },
  {
   "cell_type": "code",
   "execution_count": null,
   "id": "a8c334c8",
   "metadata": {},
   "outputs": [],
   "source": []
  },
  {
   "cell_type": "code",
   "execution_count": null,
   "id": "cfb4fde3",
   "metadata": {},
   "outputs": [],
   "source": []
  },
  {
   "cell_type": "code",
   "execution_count": null,
   "id": "c502a2d1",
   "metadata": {},
   "outputs": [],
   "source": []
  },
  {
   "cell_type": "code",
   "execution_count": null,
   "id": "717d5ed1",
   "metadata": {},
   "outputs": [],
   "source": []
  },
  {
   "cell_type": "code",
   "execution_count": null,
   "id": "e367bb7a",
   "metadata": {},
   "outputs": [],
   "source": []
  },
  {
   "cell_type": "markdown",
   "id": "9f77e9d4",
   "metadata": {},
   "source": [
    "The problem with normal distribution is that there will always be outliers. For instance, in the list above, you can find values like 138, 272 which are undesirable. Although in real life, you will find people who are exceptionally tall or short. But in this case, we want to consider the people with heights between 160 and 240. \n",
    "\n",
    "So you will have to replace those values with other values from the acceptable range. "
   ]
  },
  {
   "cell_type": "markdown",
   "id": "56e69e0a",
   "metadata": {},
   "source": [
    "Now, the task is to ensure that all the randomly picked values are nomally distributed and fall within an acceptable range. \n",
    "\n",
    "Let's think of ways of meeting all the said conditions. \n",
    "\n",
    "1. Create a larger sample of normally distributed integers than needed\n",
    "2. Use the filter command to extract all the numbers between the decided range. \n",
    "3. Finally, you need to ensure the number of observations created to the required number. \n",
    "\n",
    "There is a flow with this method. In the end, you might not end up with a normally distributed range. So it might not work. \n",
    "\n",
    "As an alternative, there is a more advanced library called scipy, it builds on top of NumPy and adds a lot more functionality. The scipy library has a function called **truncnorm**\n",
    "\n",
    "Reading material for the function:\n",
    "\n",
    "1. [Official documentation for truncnorm](https://docs.scipy.org/doc/scipy/reference/generated/scipy.stats.truncnorm.html)\n",
    "\n",
    "2. [Explanation for the usage of truncnorm](https://stackoverflow.com/questions/18441779/how-to-specify-upper-and-lower-limits-when-using-numpy-random-normal)"
   ]
  },
  {
   "cell_type": "markdown",
   "id": "0f15ec99",
   "metadata": {},
   "source": [
    "Since the scipy library is not covered, the following code block will create the necessary observations. "
   ]
  },
  {
   "cell_type": "code",
   "execution_count": 68,
   "id": "51ce6d17",
   "metadata": {},
   "outputs": [],
   "source": [
    "import scipy.stats\n",
    "\n",
    "lower = 160\n",
    "upper = 240\n",
    "mu = 200\n",
    "sigma = 20\n",
    "N = 1000\n",
    "\n",
    "samples = scipy.stats.truncnorm.rvs(\n",
    "          (lower-mu)/sigma,(upper-mu)/sigma,loc=mu,scale=sigma,size=N)"
   ]
  },
  {
   "cell_type": "code",
   "execution_count": null,
   "id": "fa451a77",
   "metadata": {},
   "outputs": [],
   "source": []
  },
  {
   "cell_type": "code",
   "execution_count": null,
   "id": "f2349e66",
   "metadata": {},
   "outputs": [],
   "source": []
  },
  {
   "cell_type": "code",
   "execution_count": null,
   "id": "bd867fc6",
   "metadata": {},
   "outputs": [],
   "source": []
  },
  {
   "cell_type": "markdown",
   "id": "ba591fc9",
   "metadata": {},
   "source": [
    "### 1.5 \n",
    "Create a length of the jump array. \n",
    "\n",
    "The length of an athlete's jump is a variable that depends on a lot of different factors, like the physical strength of the athlete, training, their natural talent and so on. So it will be fair to draw variables within a limit randomly. The length is measured in meters, with the least count 1 cm. Create the length of the jump parameter for the data. \n",
    "\n",
    "The length of the average long jump is 6 to 7 meters. The world record is 8.95 m. Hence, let's assume the highest long jump that we recorded in our data set to be 8.00m and the lowest limit to be 5.00m. \n",
    "\n",
    "To generate random numbers between 5 and 8. with uniform distribution. \n",
    "Why uniform distribution? Again the same most values will be close to the mean; rarely people will be good or bad. "
   ]
  },
  {
   "cell_type": "code",
   "execution_count": null,
   "id": "36f0263f",
   "metadata": {},
   "outputs": [],
   "source": []
  },
  {
   "cell_type": "code",
   "execution_count": null,
   "id": "ff9d2bbe",
   "metadata": {},
   "outputs": [],
   "source": []
  },
  {
   "cell_type": "code",
   "execution_count": null,
   "id": "18a97c1f",
   "metadata": {},
   "outputs": [],
   "source": []
  },
  {
   "cell_type": "code",
   "execution_count": null,
   "id": "81232660",
   "metadata": {},
   "outputs": [],
   "source": []
  },
  {
   "cell_type": "code",
   "execution_count": null,
   "id": "57eee9a8",
   "metadata": {},
   "outputs": [],
   "source": []
  },
  {
   "cell_type": "code",
   "execution_count": null,
   "id": "b0b32201",
   "metadata": {},
   "outputs": [],
   "source": []
  },
  {
   "cell_type": "markdown",
   "id": "d901dedf",
   "metadata": {},
   "source": [
    "So now we have three arrays, unique athlete ID, normally distributed height array and uniformly distributed jump vector. "
   ]
  },
  {
   "cell_type": "markdown",
   "id": "5652a330",
   "metadata": {},
   "source": [
    "### 1.6 \n",
    "Combine the three arrays to create a dataset. \n",
    "\n",
    "The form of the dataset should be \n",
    "\n",
    "\"Athlete_id\", \"Height\", \"Long_jump\" and total 1000 reading of this form. \n",
    "\n",
    "hint: \n",
    "Take the sequences of 1-D arrays and stack them as columns to make a single 2-D array. "
   ]
  },
  {
   "cell_type": "code",
   "execution_count": null,
   "id": "8af2e96d",
   "metadata": {},
   "outputs": [],
   "source": []
  },
  {
   "cell_type": "code",
   "execution_count": null,
   "id": "f87add51",
   "metadata": {},
   "outputs": [],
   "source": []
  },
  {
   "cell_type": "code",
   "execution_count": null,
   "id": "c6653c71",
   "metadata": {},
   "outputs": [],
   "source": []
  },
  {
   "cell_type": "code",
   "execution_count": null,
   "id": "a1621d31",
   "metadata": {},
   "outputs": [],
   "source": []
  },
  {
   "cell_type": "markdown",
   "id": "848b8665",
   "metadata": {},
   "source": [
    "Now you have created a dataset in the form that you need. "
   ]
  },
  {
   "cell_type": "markdown",
   "id": "34609dd8",
   "metadata": {},
   "source": [
    "## 2 Scaling Data\n",
    "\n",
    "The next task is to perform a unit conversion so that the height (currently in cms) and length of jump (currently in m) are in the same unit. \n",
    "\n",
    "\n",
    "### 2.1 \n",
    "Let's convert the height of the students to meters. \n",
    "\n",
    "Divide all values in the middle column by 100. "
   ]
  },
  {
   "cell_type": "markdown",
   "id": "2462fec5",
   "metadata": {},
   "source": [
    "#### Concept of vector division \n",
    "\n",
    "assume you have a vector \n",
    "\n",
    "a = 4,6,12\n",
    "\n",
    "You want to divide the first element by 2, the second by three and the third by 6. "
   ]
  },
  {
   "cell_type": "markdown",
   "id": "5ecbd331",
   "metadata": {},
   "source": [
    "#### Example 1"
   ]
  },
  {
   "cell_type": "code",
   "execution_count": 85,
   "id": "4ea5c981",
   "metadata": {},
   "outputs": [],
   "source": [
    "a = np.array([4,6,12])"
   ]
  },
  {
   "cell_type": "code",
   "execution_count": 88,
   "id": "04fc7bdf",
   "metadata": {},
   "outputs": [],
   "source": [
    "b = np.array([2,3,6])"
   ]
  },
  {
   "cell_type": "code",
   "execution_count": 89,
   "id": "82f8d9fc",
   "metadata": {},
   "outputs": [
    {
     "data": {
      "text/plain": [
       "array([2., 2., 2.])"
      ]
     },
     "execution_count": 89,
     "metadata": {},
     "output_type": "execute_result"
    }
   ],
   "source": [
    "np.divide(a,b)"
   ]
  },
  {
   "cell_type": "markdown",
   "id": "2fcdf3af",
   "metadata": {},
   "source": [
    "#### Example 2"
   ]
  },
  {
   "cell_type": "code",
   "execution_count": 90,
   "id": "7b24236d",
   "metadata": {},
   "outputs": [],
   "source": [
    "a = np.array([[4,6,12], [6, 9, 18]])"
   ]
  },
  {
   "cell_type": "code",
   "execution_count": 91,
   "id": "a3bf1743",
   "metadata": {},
   "outputs": [
    {
     "data": {
      "text/plain": [
       "array([[ 4,  6, 12],\n",
       "       [ 6,  9, 18]])"
      ]
     },
     "execution_count": 91,
     "metadata": {},
     "output_type": "execute_result"
    }
   ],
   "source": [
    "a"
   ]
  },
  {
   "cell_type": "code",
   "execution_count": 92,
   "id": "113da92e",
   "metadata": {},
   "outputs": [
    {
     "data": {
      "text/plain": [
       "array([[2., 2., 2.],\n",
       "       [3., 3., 3.]])"
      ]
     },
     "execution_count": 92,
     "metadata": {},
     "output_type": "execute_result"
    }
   ],
   "source": [
    "np.divide(a,b)"
   ]
  },
  {
   "cell_type": "markdown",
   "id": "1964c3ad",
   "metadata": {},
   "source": [
    "You can use the divide function to perform row/column-wise operations. There are rules to follow while ensuring that such procedures do not through errors. You can read about thse rules [here](https://www.geeksforgeeks.org/python-broadcasting-with-numpy-arrays/#:~:text=Broadcasting%20Rules%3A&text=The%20two%20arrays%20are%20compatible,are%20compatible%20with%20all%20dimensions.)\n",
    "\n",
    "This is called dimensional compatibility. You will learn more about this later in the program. "
   ]
  },
  {
   "cell_type": "code",
   "execution_count": null,
   "id": "6574b699",
   "metadata": {},
   "outputs": [],
   "source": []
  },
  {
   "cell_type": "code",
   "execution_count": null,
   "id": "4cf3ae34",
   "metadata": {},
   "outputs": [],
   "source": []
  },
  {
   "cell_type": "code",
   "execution_count": null,
   "id": "545f0ffb",
   "metadata": {},
   "outputs": [],
   "source": []
  },
  {
   "cell_type": "code",
   "execution_count": null,
   "id": "8e90edd9",
   "metadata": {},
   "outputs": [],
   "source": []
  },
  {
   "cell_type": "markdown",
   "id": "dda31daa",
   "metadata": {},
   "source": [
    "### 2.2 \n",
    "Calculate the length of the jump to height ratio. Higher this ratio better will be the student at the long jump. "
   ]
  },
  {
   "cell_type": "markdown",
   "id": "0e500c9e",
   "metadata": {},
   "source": [
    "You will have to slice the array to extract the required columns from the matrix, perform the operation, and ultimately add the new column to the original matrix. "
   ]
  },
  {
   "cell_type": "code",
   "execution_count": null,
   "id": "919285a7",
   "metadata": {},
   "outputs": [],
   "source": []
  },
  {
   "cell_type": "code",
   "execution_count": null,
   "id": "14dffdad",
   "metadata": {},
   "outputs": [],
   "source": []
  },
  {
   "cell_type": "code",
   "execution_count": null,
   "id": "23ad705c",
   "metadata": {},
   "outputs": [],
   "source": []
  },
  {
   "cell_type": "code",
   "execution_count": null,
   "id": "d7fc7b73",
   "metadata": {},
   "outputs": [],
   "source": []
  },
  {
   "cell_type": "markdown",
   "id": "d3f6c408",
   "metadata": {},
   "source": [
    "### 2.3 \n",
    "Find the candidate ID with the highest length to height ratio. "
   ]
  },
  {
   "cell_type": "code",
   "execution_count": null,
   "id": "bc551058",
   "metadata": {},
   "outputs": [],
   "source": []
  },
  {
   "cell_type": "code",
   "execution_count": null,
   "id": "9724a905",
   "metadata": {},
   "outputs": [],
   "source": []
  },
  {
   "cell_type": "code",
   "execution_count": null,
   "id": "3a46cde8",
   "metadata": {},
   "outputs": [],
   "source": []
  },
  {
   "cell_type": "code",
   "execution_count": null,
   "id": "32eeaa36",
   "metadata": {},
   "outputs": [],
   "source": []
  },
  {
   "cell_type": "code",
   "execution_count": null,
   "id": "1d02293c",
   "metadata": {},
   "outputs": [],
   "source": []
  },
  {
   "cell_type": "markdown",
   "id": "052b4674",
   "metadata": {},
   "source": [
    "## Conclusion \n",
    "\n",
    "1. You learnt the use of official documentation and tools like stack overflow to reduce your effort in writing code. \n",
    "2. You used NumPy and scipy to create a dataset and perform operations on it \n",
    "3. You performed EDA found out the most efficient jumper. "
   ]
  }
 ],
 "metadata": {
  "kernelspec": {
   "display_name": "Python 3",
   "language": "python",
   "name": "python3"
  },
  "language_info": {
   "codemirror_mode": {
    "name": "ipython",
    "version": 3
   },
   "file_extension": ".py",
   "mimetype": "text/x-python",
   "name": "python",
   "nbconvert_exporter": "python",
   "pygments_lexer": "ipython3",
   "version": "3.8.8"
  }
 },
 "nbformat": 4,
 "nbformat_minor": 5
}
