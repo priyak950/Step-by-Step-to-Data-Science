{
 "cells": [
  {
   "cell_type": "code",
   "execution_count": 2,
   "id": "a3ce87e6",
   "metadata": {},
   "outputs": [],
   "source": [
    "height = [12,13,14]"
   ]
  },
  {
   "cell_type": "code",
   "execution_count": 5,
   "id": "50119a7d",
   "metadata": {
    "scrolled": true
   },
   "outputs": [
    {
     "ename": "TypeError",
     "evalue": "can't multiply sequence by non-int of type 'float'",
     "output_type": "error",
     "traceback": [
      "\u001b[1;31m---------------------------------------------------------------------------\u001b[0m",
      "\u001b[1;31mTypeError\u001b[0m                                 Traceback (most recent call last)",
      "\u001b[1;32m~\\AppData\\Local\\Temp/ipykernel_19784/3449216818.py\u001b[0m in \u001b[0;36m<module>\u001b[1;34m\u001b[0m\n\u001b[1;32m----> 1\u001b[1;33m \u001b[0mheight\u001b[0m\u001b[1;33m*\u001b[0m\u001b[1;36m2.56\u001b[0m\u001b[1;33m\u001b[0m\u001b[1;33m\u001b[0m\u001b[0m\n\u001b[0m",
      "\u001b[1;31mTypeError\u001b[0m: can't multiply sequence by non-int of type 'float'"
     ]
    }
   ],
   "source": [
    "height*2.56\n"
   ]
  },
  {
   "cell_type": "code",
   "execution_count": 6,
   "id": "9c0aca66",
   "metadata": {},
   "outputs": [],
   "source": [
    "import numpy as np"
   ]
  },
  {
   "cell_type": "code",
   "execution_count": 8,
   "id": "8208b137",
   "metadata": {},
   "outputs": [],
   "source": [
    "np_height = np.array([12,13,14])"
   ]
  },
  {
   "cell_type": "code",
   "execution_count": 9,
   "id": "584b64bd",
   "metadata": {},
   "outputs": [
    {
     "data": {
      "text/plain": [
       "array([30.72, 33.28, 35.84])"
      ]
     },
     "execution_count": 9,
     "metadata": {},
     "output_type": "execute_result"
    }
   ],
   "source": [
    "np_height*2.56"
   ]
  },
  {
   "cell_type": "markdown",
   "id": "ae482ec4",
   "metadata": {},
   "source": [
    "Numpy method"
   ]
  },
  {
   "cell_type": "code",
   "execution_count": 10,
   "id": "04f761d6",
   "metadata": {},
   "outputs": [
    {
     "name": "stdout",
     "output_type": "stream",
     "text": [
      "[ 8 10 12]\n"
     ]
    }
   ],
   "source": [
    "np1 = np.array([1,2,3])\n",
    "np2 = np.array([7,8,9])\n",
    "print(np1+np2)"
   ]
  },
  {
   "cell_type": "markdown",
   "id": "775b243a",
   "metadata": {},
   "source": [
    "homogeneity of NumPy arrays"
   ]
  },
  {
   "cell_type": "code",
   "execution_count": 14,
   "id": "348036dd",
   "metadata": {},
   "outputs": [
    {
     "data": {
      "text/plain": [
       "numpy.float64"
      ]
     },
     "execution_count": 14,
     "metadata": {},
     "output_type": "execute_result"
    }
   ],
   "source": [
    "a=np.array( [1.0, 2, 3.5, 0.2, True] )\n",
    "type(a[4])"
   ]
  },
  {
   "cell_type": "code",
   "execution_count": 17,
   "id": "c304a64a",
   "metadata": {},
   "outputs": [
    {
     "data": {
      "text/plain": [
       "array([56, 90])"
      ]
     },
     "execution_count": 17,
     "metadata": {},
     "output_type": "execute_result"
    }
   ],
   "source": [
    "b=np.array((1,90))\n",
    "b[0]=56\n",
    "b"
   ]
  }
 ],
 "metadata": {
  "kernelspec": {
   "display_name": "Python 3 (ipykernel)",
   "language": "python",
   "name": "python3"
  },
  "language_info": {
   "codemirror_mode": {
    "name": "ipython",
    "version": 3
   },
   "file_extension": ".py",
   "mimetype": "text/x-python",
   "name": "python",
   "nbconvert_exporter": "python",
   "pygments_lexer": "ipython3",
   "version": "3.9.7"
  }
 },
 "nbformat": 4,
 "nbformat_minor": 5
}
